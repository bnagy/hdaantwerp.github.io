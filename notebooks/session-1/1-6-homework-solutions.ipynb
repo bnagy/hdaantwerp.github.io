{
 "cells": [
  {
   "cell_type": "markdown",
   "metadata": {
    "id": "wwyPXFb04izJ"
   },
   "source": [
    "# Session 1: homework\n",
    "\n",
    "## 1. Exploring datasets: Exercise spelling"
   ]
  },
  {
   "cell_type": "markdown",
   "metadata": {
    "id": "IQzqpi0T4izN"
   },
   "source": [
    "### Loading and inspecting the data"
   ]
  },
  {
   "cell_type": "markdown",
   "metadata": {
    "id": "Tr66cTQz4izO"
   },
   "source": [
    "Load and inspect `spelling/spelling_utf8.csv`. Read the `README`\n",
    " to get familiar with this dataset and its variables."
   ]
  },
  {
   "cell_type": "code",
   "execution_count": 1,
   "metadata": {},
   "outputs": [],
   "source": [
    "import pandas as pd\n",
    "import matplotlib.pyplot as plt\n",
    "import seaborn as sns"
   ]
  },
  {
   "cell_type": "code",
   "execution_count": 2,
   "metadata": {},
   "outputs": [],
   "source": [
    "# You don't need to do this, but it might come in handy one day. The original version of the dataset\n",
    "# was a TSV written in Windows, which uses a different \"character encoding\" sometimes. Normally,\n",
    "# Python always uses \"UTF-8\" (and that is what we would recommend you stick to). If you try to open\n",
    "# a file with the wrong encoding on the wrong machine you will see some confusing errors like this:\n",
    "#\n",
    "# UnicodeDecodeError: 'utf-8' codec can't decode byte 0x95 in position 15048: invalid start byte\n",
    "#\n",
    "# This is how we fixed that for you.\n",
    "\n",
    "# import chardet\n",
    "\n",
    "# with open(\"../datasets/spelling/spelling.tsv\", \"rb\") as f:\n",
    "#     raw = f.read()\n",
    "\n",
    "# chardet.detect(raw)"
   ]
  },
  {
   "cell_type": "code",
   "execution_count": 5,
   "metadata": {},
   "outputs": [
    {
     "data": {
      "text/html": [
       "<div>\n",
       "<style scoped>\n",
       "    .dataframe tbody tr th:only-of-type {\n",
       "        vertical-align: middle;\n",
       "    }\n",
       "\n",
       "    .dataframe tbody tr th {\n",
       "        vertical-align: top;\n",
       "    }\n",
       "\n",
       "    .dataframe thead th {\n",
       "        text-align: right;\n",
       "    }\n",
       "</style>\n",
       "<table border=\"1\" class=\"dataframe\">\n",
       "  <thead>\n",
       "    <tr style=\"text-align: right;\">\n",
       "      <th></th>\n",
       "      <th>subject_ID</th>\n",
       "      <th>lemma</th>\n",
       "      <th>gender</th>\n",
       "      <th>age</th>\n",
       "      <th>education</th>\n",
       "      <th>grade</th>\n",
       "      <th>error</th>\n",
       "    </tr>\n",
       "  </thead>\n",
       "  <tbody>\n",
       "    <tr>\n",
       "      <th>0</th>\n",
       "      <td>325</td>\n",
       "      <td>aanbidden</td>\n",
       "      <td>male</td>\n",
       "      <td>17</td>\n",
       "      <td>general</td>\n",
       "      <td>Gr3</td>\n",
       "      <td>0</td>\n",
       "    </tr>\n",
       "    <tr>\n",
       "      <th>1</th>\n",
       "      <td>563</td>\n",
       "      <td>aanbidden</td>\n",
       "      <td>female</td>\n",
       "      <td>18</td>\n",
       "      <td>technical</td>\n",
       "      <td>Gr3</td>\n",
       "      <td>0</td>\n",
       "    </tr>\n",
       "    <tr>\n",
       "      <th>2</th>\n",
       "      <td>742</td>\n",
       "      <td>aanbieden</td>\n",
       "      <td>male</td>\n",
       "      <td>18</td>\n",
       "      <td>vocational</td>\n",
       "      <td>Gr3</td>\n",
       "      <td>0</td>\n",
       "    </tr>\n",
       "    <tr>\n",
       "      <th>3</th>\n",
       "      <td>899</td>\n",
       "      <td>aanbieden</td>\n",
       "      <td>male</td>\n",
       "      <td>17</td>\n",
       "      <td>vocational</td>\n",
       "      <td>Gr3</td>\n",
       "      <td>0</td>\n",
       "    </tr>\n",
       "    <tr>\n",
       "      <th>4</th>\n",
       "      <td>625</td>\n",
       "      <td>aanbieden</td>\n",
       "      <td>female</td>\n",
       "      <td>16</td>\n",
       "      <td>general</td>\n",
       "      <td>Gr2</td>\n",
       "      <td>0</td>\n",
       "    </tr>\n",
       "    <tr>\n",
       "      <th>...</th>\n",
       "      <td>...</td>\n",
       "      <td>...</td>\n",
       "      <td>...</td>\n",
       "      <td>...</td>\n",
       "      <td>...</td>\n",
       "      <td>...</td>\n",
       "      <td>...</td>\n",
       "    </tr>\n",
       "    <tr>\n",
       "      <th>5820</th>\n",
       "      <td>website88</td>\n",
       "      <td>worden</td>\n",
       "      <td>female</td>\n",
       "      <td>17</td>\n",
       "      <td>general</td>\n",
       "      <td>Gr3</td>\n",
       "      <td>0</td>\n",
       "    </tr>\n",
       "    <tr>\n",
       "      <th>5821</th>\n",
       "      <td>website88</td>\n",
       "      <td>worden</td>\n",
       "      <td>female</td>\n",
       "      <td>17</td>\n",
       "      <td>general</td>\n",
       "      <td>Gr3</td>\n",
       "      <td>0</td>\n",
       "    </tr>\n",
       "    <tr>\n",
       "      <th>5822</th>\n",
       "      <td>website88</td>\n",
       "      <td>worden</td>\n",
       "      <td>female</td>\n",
       "      <td>17</td>\n",
       "      <td>general</td>\n",
       "      <td>Gr3</td>\n",
       "      <td>0</td>\n",
       "    </tr>\n",
       "    <tr>\n",
       "      <th>5823</th>\n",
       "      <td>325</td>\n",
       "      <td>zenden</td>\n",
       "      <td>male</td>\n",
       "      <td>17</td>\n",
       "      <td>general</td>\n",
       "      <td>Gr3</td>\n",
       "      <td>0</td>\n",
       "    </tr>\n",
       "    <tr>\n",
       "      <th>5824</th>\n",
       "      <td>1343</td>\n",
       "      <td>zenden</td>\n",
       "      <td>female</td>\n",
       "      <td>17</td>\n",
       "      <td>general</td>\n",
       "      <td>Gr3</td>\n",
       "      <td>0</td>\n",
       "    </tr>\n",
       "  </tbody>\n",
       "</table>\n",
       "<p>5825 rows × 7 columns</p>\n",
       "</div>"
      ],
      "text/plain": [
       "     subject_ID      lemma  gender  age   education grade  error\n",
       "0           325  aanbidden    male   17     general   Gr3      0\n",
       "1           563  aanbidden  female   18   technical   Gr3      0\n",
       "2           742  aanbieden    male   18  vocational   Gr3      0\n",
       "3           899  aanbieden    male   17  vocational   Gr3      0\n",
       "4           625  aanbieden  female   16     general   Gr2      0\n",
       "...         ...        ...     ...  ...         ...   ...    ...\n",
       "5820  website88     worden  female   17     general   Gr3      0\n",
       "5821  website88     worden  female   17     general   Gr3      0\n",
       "5822  website88     worden  female   17     general   Gr3      0\n",
       "5823        325     zenden    male   17     general   Gr3      0\n",
       "5824       1343     zenden  female   17     general   Gr3      0\n",
       "\n",
       "[5825 rows x 7 columns]"
      ]
     },
     "execution_count": 5,
     "metadata": {},
     "output_type": "execute_result"
    }
   ],
   "source": [
    "# This only works with the Windows encoding\n",
    "# df = pd.read_csv(\"../datasets/spelling/spelling.tsv\", sep=\"\\t\", encoding=\"Windows-1252\")\n",
    "\n",
    "# This should always work\n",
    "\n",
    "df = pd.read_csv(\"../../datasets/spelling/spelling_utf8.csv\")\n",
    "df"
   ]
  },
  {
   "cell_type": "markdown",
   "metadata": {
    "id": "2GfHbP9L4izR"
   },
   "source": [
    "### Data exploration"
   ]
  },
  {
   "cell_type": "markdown",
   "metadata": {
    "id": "HwAVVdJU4izS"
   },
   "source": [
    "Can we observe an education difference in the number of errors that are made (`error` = 0 vs `error` = 1)? Create a table with `error` (0/1) per educational track."
   ]
  },
  {
   "cell_type": "code",
   "execution_count": 6,
   "metadata": {},
   "outputs": [
    {
     "data": {
      "text/html": [
       "<div>\n",
       "<style scoped>\n",
       "    .dataframe tbody tr th:only-of-type {\n",
       "        vertical-align: middle;\n",
       "    }\n",
       "\n",
       "    .dataframe tbody tr th {\n",
       "        vertical-align: top;\n",
       "    }\n",
       "\n",
       "    .dataframe thead th {\n",
       "        text-align: right;\n",
       "    }\n",
       "</style>\n",
       "<table border=\"1\" class=\"dataframe\">\n",
       "  <thead>\n",
       "    <tr style=\"text-align: right;\">\n",
       "      <th></th>\n",
       "      <th>subject_ID</th>\n",
       "      <th>lemma</th>\n",
       "      <th>gender</th>\n",
       "      <th>age</th>\n",
       "      <th>education</th>\n",
       "      <th>grade</th>\n",
       "      <th>error</th>\n",
       "    </tr>\n",
       "  </thead>\n",
       "  <tbody>\n",
       "    <tr>\n",
       "      <th>0</th>\n",
       "      <td>325</td>\n",
       "      <td>aanbidden</td>\n",
       "      <td>male</td>\n",
       "      <td>17</td>\n",
       "      <td>general</td>\n",
       "      <td>Gr3</td>\n",
       "      <td>False</td>\n",
       "    </tr>\n",
       "    <tr>\n",
       "      <th>1</th>\n",
       "      <td>563</td>\n",
       "      <td>aanbidden</td>\n",
       "      <td>female</td>\n",
       "      <td>18</td>\n",
       "      <td>technical</td>\n",
       "      <td>Gr3</td>\n",
       "      <td>False</td>\n",
       "    </tr>\n",
       "    <tr>\n",
       "      <th>2</th>\n",
       "      <td>742</td>\n",
       "      <td>aanbieden</td>\n",
       "      <td>male</td>\n",
       "      <td>18</td>\n",
       "      <td>vocational</td>\n",
       "      <td>Gr3</td>\n",
       "      <td>False</td>\n",
       "    </tr>\n",
       "    <tr>\n",
       "      <th>3</th>\n",
       "      <td>899</td>\n",
       "      <td>aanbieden</td>\n",
       "      <td>male</td>\n",
       "      <td>17</td>\n",
       "      <td>vocational</td>\n",
       "      <td>Gr3</td>\n",
       "      <td>False</td>\n",
       "    </tr>\n",
       "    <tr>\n",
       "      <th>4</th>\n",
       "      <td>625</td>\n",
       "      <td>aanbieden</td>\n",
       "      <td>female</td>\n",
       "      <td>16</td>\n",
       "      <td>general</td>\n",
       "      <td>Gr2</td>\n",
       "      <td>False</td>\n",
       "    </tr>\n",
       "    <tr>\n",
       "      <th>...</th>\n",
       "      <td>...</td>\n",
       "      <td>...</td>\n",
       "      <td>...</td>\n",
       "      <td>...</td>\n",
       "      <td>...</td>\n",
       "      <td>...</td>\n",
       "      <td>...</td>\n",
       "    </tr>\n",
       "    <tr>\n",
       "      <th>5820</th>\n",
       "      <td>website88</td>\n",
       "      <td>worden</td>\n",
       "      <td>female</td>\n",
       "      <td>17</td>\n",
       "      <td>general</td>\n",
       "      <td>Gr3</td>\n",
       "      <td>False</td>\n",
       "    </tr>\n",
       "    <tr>\n",
       "      <th>5821</th>\n",
       "      <td>website88</td>\n",
       "      <td>worden</td>\n",
       "      <td>female</td>\n",
       "      <td>17</td>\n",
       "      <td>general</td>\n",
       "      <td>Gr3</td>\n",
       "      <td>False</td>\n",
       "    </tr>\n",
       "    <tr>\n",
       "      <th>5822</th>\n",
       "      <td>website88</td>\n",
       "      <td>worden</td>\n",
       "      <td>female</td>\n",
       "      <td>17</td>\n",
       "      <td>general</td>\n",
       "      <td>Gr3</td>\n",
       "      <td>False</td>\n",
       "    </tr>\n",
       "    <tr>\n",
       "      <th>5823</th>\n",
       "      <td>325</td>\n",
       "      <td>zenden</td>\n",
       "      <td>male</td>\n",
       "      <td>17</td>\n",
       "      <td>general</td>\n",
       "      <td>Gr3</td>\n",
       "      <td>False</td>\n",
       "    </tr>\n",
       "    <tr>\n",
       "      <th>5824</th>\n",
       "      <td>1343</td>\n",
       "      <td>zenden</td>\n",
       "      <td>female</td>\n",
       "      <td>17</td>\n",
       "      <td>general</td>\n",
       "      <td>Gr3</td>\n",
       "      <td>False</td>\n",
       "    </tr>\n",
       "  </tbody>\n",
       "</table>\n",
       "<p>5825 rows × 7 columns</p>\n",
       "</div>"
      ],
      "text/plain": [
       "     subject_ID      lemma  gender  age   education grade  error\n",
       "0           325  aanbidden    male   17     general   Gr3  False\n",
       "1           563  aanbidden  female   18   technical   Gr3  False\n",
       "2           742  aanbieden    male   18  vocational   Gr3  False\n",
       "3           899  aanbieden    male   17  vocational   Gr3  False\n",
       "4           625  aanbieden  female   16     general   Gr2  False\n",
       "...         ...        ...     ...  ...         ...   ...    ...\n",
       "5820  website88     worden  female   17     general   Gr3  False\n",
       "5821  website88     worden  female   17     general   Gr3  False\n",
       "5822  website88     worden  female   17     general   Gr3  False\n",
       "5823        325     zenden    male   17     general   Gr3  False\n",
       "5824       1343     zenden  female   17     general   Gr3  False\n",
       "\n",
       "[5825 rows x 7 columns]"
      ]
     },
     "execution_count": 6,
     "metadata": {},
     "output_type": "execute_result"
    }
   ],
   "source": [
    "# I prefer to have booleans as Python booleans. This is optional.\n",
    "\n",
    "df[\"error\"] = df[\"error\"] == 1\n",
    "df"
   ]
  },
  {
   "cell_type": "code",
   "execution_count": 7,
   "metadata": {},
   "outputs": [
    {
     "data": {
      "text/plain": [
       "education   error\n",
       "general     False    1622\n",
       "            True      326\n",
       "technical   False    1911\n",
       "            True      844\n",
       "vocational  False     623\n",
       "            True      499\n",
       "Name: count, dtype: int64"
      ]
     },
     "execution_count": 7,
     "metadata": {},
     "output_type": "execute_result"
    }
   ],
   "source": [
    "df.groupby(\"education\")[\"error\"].value_counts()"
   ]
  },
  {
   "cell_type": "markdown",
   "metadata": {},
   "source": [
    "Here is an alternative method that we didn't cover, which is a bit prettier. Check the documentation and see which way you prefer."
   ]
  },
  {
   "cell_type": "code",
   "execution_count": 8,
   "metadata": {},
   "outputs": [
    {
     "data": {
      "text/html": [
       "<div>\n",
       "<style scoped>\n",
       "    .dataframe tbody tr th:only-of-type {\n",
       "        vertical-align: middle;\n",
       "    }\n",
       "\n",
       "    .dataframe tbody tr th {\n",
       "        vertical-align: top;\n",
       "    }\n",
       "\n",
       "    .dataframe thead th {\n",
       "        text-align: right;\n",
       "    }\n",
       "</style>\n",
       "<table border=\"1\" class=\"dataframe\">\n",
       "  <thead>\n",
       "    <tr style=\"text-align: right;\">\n",
       "      <th>error</th>\n",
       "      <th>False</th>\n",
       "      <th>True</th>\n",
       "    </tr>\n",
       "    <tr>\n",
       "      <th>education</th>\n",
       "      <th></th>\n",
       "      <th></th>\n",
       "    </tr>\n",
       "  </thead>\n",
       "  <tbody>\n",
       "    <tr>\n",
       "      <th>general</th>\n",
       "      <td>1622</td>\n",
       "      <td>326</td>\n",
       "    </tr>\n",
       "    <tr>\n",
       "      <th>technical</th>\n",
       "      <td>1911</td>\n",
       "      <td>844</td>\n",
       "    </tr>\n",
       "    <tr>\n",
       "      <th>vocational</th>\n",
       "      <td>623</td>\n",
       "      <td>499</td>\n",
       "    </tr>\n",
       "  </tbody>\n",
       "</table>\n",
       "</div>"
      ],
      "text/plain": [
       "error       False  True \n",
       "education               \n",
       "general      1622    326\n",
       "technical    1911    844\n",
       "vocational    623    499"
      ]
     },
     "execution_count": 8,
     "metadata": {},
     "output_type": "execute_result"
    }
   ],
   "source": [
    "pd.crosstab(df.education, df.error)"
   ]
  },
  {
   "cell_type": "markdown",
   "metadata": {
    "id": "hxlRB04a4izT"
   },
   "source": [
    "Now convert this table to a proportion table (percentages). In addition, make the table a bit easier on the eye by rounding the percentages to two digits with `round()`."
   ]
  },
  {
   "cell_type": "code",
   "execution_count": 9,
   "metadata": {
    "id": "7JICWuaL4izU"
   },
   "outputs": [
    {
     "data": {
      "text/plain": [
       "education   error\n",
       "general     False    0.83\n",
       "            True     0.17\n",
       "technical   False    0.69\n",
       "            True     0.31\n",
       "vocational  False    0.56\n",
       "            True     0.44\n",
       "Name: proportion, dtype: float64"
      ]
     },
     "execution_count": 9,
     "metadata": {},
     "output_type": "execute_result"
    }
   ],
   "source": [
    "df.groupby(\"education\")[\"error\"].value_counts(normalize=True).round(2)"
   ]
  },
  {
   "cell_type": "markdown",
   "metadata": {
    "id": "LOPlB4xQ4izV"
   },
   "source": [
    "##### Question:\n",
    "> How to interpret these percentages?"
   ]
  },
  {
   "cell_type": "markdown",
   "metadata": {},
   "source": [
    "##### Answer:\n",
    "> All students are more inclined to *not* make an error than to make an error. But this inclination is stronger as students are in more theory-oriented tracks (= technical and especially general education)."
   ]
  },
  {
   "cell_type": "markdown",
   "metadata": {
    "id": "prmTNX1D4izV"
   },
   "source": [
    "Now repeat these steps, but print column totals instead of row totals---in other words, for each value of 'error' the 'education' values should add up to 1."
   ]
  },
  {
   "cell_type": "code",
   "execution_count": 10,
   "metadata": {
    "id": "RMTghc-L4izW"
   },
   "outputs": [
    {
     "data": {
      "text/plain": [
       "error  education \n",
       "False  technical     0.46\n",
       "       general       0.39\n",
       "       vocational    0.15\n",
       "True   technical     0.51\n",
       "       vocational    0.30\n",
       "       general       0.20\n",
       "Name: proportion, dtype: float64"
      ]
     },
     "execution_count": 10,
     "metadata": {},
     "output_type": "execute_result"
    }
   ],
   "source": [
    "df.groupby(\"error\")[\"education\"].value_counts(normalize=True).round(2)"
   ]
  },
  {
   "cell_type": "code",
   "execution_count": 11,
   "metadata": {},
   "outputs": [
    {
     "data": {
      "text/html": [
       "<div>\n",
       "<style scoped>\n",
       "    .dataframe tbody tr th:only-of-type {\n",
       "        vertical-align: middle;\n",
       "    }\n",
       "\n",
       "    .dataframe tbody tr th {\n",
       "        vertical-align: top;\n",
       "    }\n",
       "\n",
       "    .dataframe thead th {\n",
       "        text-align: right;\n",
       "    }\n",
       "</style>\n",
       "<table border=\"1\" class=\"dataframe\">\n",
       "  <thead>\n",
       "    <tr style=\"text-align: right;\">\n",
       "      <th>error</th>\n",
       "      <th>False</th>\n",
       "      <th>True</th>\n",
       "    </tr>\n",
       "    <tr>\n",
       "      <th>education</th>\n",
       "      <th></th>\n",
       "      <th></th>\n",
       "    </tr>\n",
       "  </thead>\n",
       "  <tbody>\n",
       "    <tr>\n",
       "      <th>general</th>\n",
       "      <td>0.39</td>\n",
       "      <td>0.20</td>\n",
       "    </tr>\n",
       "    <tr>\n",
       "      <th>technical</th>\n",
       "      <td>0.46</td>\n",
       "      <td>0.51</td>\n",
       "    </tr>\n",
       "    <tr>\n",
       "      <th>vocational</th>\n",
       "      <td>0.15</td>\n",
       "      <td>0.30</td>\n",
       "    </tr>\n",
       "  </tbody>\n",
       "</table>\n",
       "</div>"
      ],
      "text/plain": [
       "error       False  True \n",
       "education               \n",
       "general      0.39   0.20\n",
       "technical    0.46   0.51\n",
       "vocational   0.15   0.30"
      ]
     },
     "execution_count": 11,
     "metadata": {},
     "output_type": "execute_result"
    }
   ],
   "source": [
    "pd.crosstab(df.education, df.error, normalize=\"columns\").round(2)"
   ]
  },
  {
   "cell_type": "markdown",
   "metadata": {
    "id": "IE2FnsGH4izW"
   },
   "source": [
    "### Data visualization"
   ]
  },
  {
   "cell_type": "markdown",
   "metadata": {
    "id": "1TLia4_a4izW"
   },
   "source": [
    "Create a mosaic plot from the original dataframe (raw frequencies)."
   ]
  },
  {
   "cell_type": "code",
   "execution_count": 12,
   "metadata": {
    "id": "Z6iajxvb4izX"
   },
   "outputs": [
    {
     "data": {
      "image/png": "[encoded data removed]",
      "text/plain": [
       "<Figure size 640x480 with 3 Axes>"
      ]
     },
     "metadata": {},
     "output_type": "display_data"
    }
   ],
   "source": [
    "from statsmodels.graphics.mosaicplot import mosaic\n",
    "\n",
    "mosaic(df, [\"error\", \"education\"])\n",
    "plt.show()"
   ]
  },
  {
   "cell_type": "markdown",
   "metadata": {},
   "source": [
    "##### Question:\n",
    "> How to interpret the plot?\n",
    "\n",
    "##### Answer:\n",
    "> The plot tells us the same as the table, but in a visual way. We can see that more practice-oriented students make more errors than more theory-oriented students. Furthermore, the amount of data available for the three educational tracks is shown too: we have the most data for technical students, then for general students, then for vocational students."
   ]
  },
  {
   "cell_type": "markdown",
   "metadata": {},
   "source": [
    "Can you recreate this plot, but with education on the \"y-axis\" and error on the \"x-axis\"?"
   ]
  },
  {
   "cell_type": "code",
   "execution_count": 13,
   "metadata": {},
   "outputs": [
    {
     "data": {
      "image/png": "[encoded data removed]",
      "text/plain": [
       "<Figure size 640x480 with 3 Axes>"
      ]
     },
     "metadata": {},
     "output_type": "display_data"
    }
   ],
   "source": [
    "mosaic(df, [\"education\", \"error\"])\n",
    "plt.show()"
   ]
  },
  {
   "cell_type": "markdown",
   "metadata": {
    "id": "egl6eMrm4izY"
   },
   "source": [
    "## 2. Spanish authors from the Silver Age"
   ]
  },
  {
   "cell_type": "markdown",
   "metadata": {
    "id": "qkG6IdW94izY"
   },
   "source": [
    "In the next session, we'll work with a dataset that contains general information about a number of canonical Spanish authors from the so-called \"Silver Age\" of Hispanic literature. Let us explore this data already with a couple of simple (and not so simple) exercises:\n",
    "\n",
    "\n",
    "- Load the dataset `sp-authors.tsv` from the folder `../datasets/correlaciones`. Pay attention to the extension!\n",
    "- get an overview of the dataframe in the notebook using the 'last thing evaluated' trick"
   ]
  },
  {
   "cell_type": "code",
   "execution_count": 16,
   "metadata": {
    "id": "QrRAJsqH4izY"
   },
   "outputs": [
    {
     "data": {
      "text/html": [
       "<div>\n",
       "<style scoped>\n",
       "    .dataframe tbody tr th:only-of-type {\n",
       "        vertical-align: middle;\n",
       "    }\n",
       "\n",
       "    .dataframe tbody tr th {\n",
       "        vertical-align: top;\n",
       "    }\n",
       "\n",
       "    .dataframe thead th {\n",
       "        text-align: right;\n",
       "    }\n",
       "</style>\n",
       "<table border=\"1\" class=\"dataframe\">\n",
       "  <thead>\n",
       "    <tr style=\"text-align: right;\">\n",
       "      <th></th>\n",
       "      <th>id</th>\n",
       "      <th>author-fullname</th>\n",
       "      <th>author</th>\n",
       "      <th>birth</th>\n",
       "      <th>death</th>\n",
       "      <th>gender</th>\n",
       "      <th>pages-in-manual</th>\n",
       "      <th>novels</th>\n",
       "      <th>works</th>\n",
       "      <th>life-span</th>\n",
       "      <th>digitzed-by</th>\n",
       "    </tr>\n",
       "  </thead>\n",
       "  <tbody>\n",
       "    <tr>\n",
       "      <th>0</th>\n",
       "      <td>1</td>\n",
       "      <td>Rosalía de Castro</td>\n",
       "      <td>RdCastro</td>\n",
       "      <td>1837</td>\n",
       "      <td>1885</td>\n",
       "      <td>female</td>\n",
       "      <td>17</td>\n",
       "      <td>1</td>\n",
       "      <td>1</td>\n",
       "      <td>48</td>\n",
       "      <td>6</td>\n",
       "    </tr>\n",
       "    <tr>\n",
       "      <th>1</th>\n",
       "      <td>2</td>\n",
       "      <td>Enrique Pérez Escrich</td>\n",
       "      <td>Escrich</td>\n",
       "      <td>1829</td>\n",
       "      <td>1897</td>\n",
       "      <td>male</td>\n",
       "      <td>1</td>\n",
       "      <td>4</td>\n",
       "      <td>17</td>\n",
       "      <td>68</td>\n",
       "      <td>5</td>\n",
       "    </tr>\n",
       "    <tr>\n",
       "      <th>2</th>\n",
       "      <td>3</td>\n",
       "      <td>Antonio de Trueba y de la Quintana</td>\n",
       "      <td>Trueba</td>\n",
       "      <td>1819</td>\n",
       "      <td>1889</td>\n",
       "      <td>male</td>\n",
       "      <td>1</td>\n",
       "      <td>0</td>\n",
       "      <td>1</td>\n",
       "      <td>70</td>\n",
       "      <td>6</td>\n",
       "    </tr>\n",
       "    <tr>\n",
       "      <th>3</th>\n",
       "      <td>4</td>\n",
       "      <td>José Selgas Carrasco</td>\n",
       "      <td>Selgas</td>\n",
       "      <td>1822</td>\n",
       "      <td>1882</td>\n",
       "      <td>male</td>\n",
       "      <td>1</td>\n",
       "      <td>5</td>\n",
       "      <td>7</td>\n",
       "      <td>60</td>\n",
       "      <td>4,5</td>\n",
       "    </tr>\n",
       "    <tr>\n",
       "      <th>4</th>\n",
       "      <td>5</td>\n",
       "      <td>Francisco Navarro Villoslada</td>\n",
       "      <td>Villoslada</td>\n",
       "      <td>1818</td>\n",
       "      <td>1895</td>\n",
       "      <td>male</td>\n",
       "      <td>1,2</td>\n",
       "      <td>0</td>\n",
       "      <td>0</td>\n",
       "      <td>77</td>\n",
       "      <td>5.5</td>\n",
       "    </tr>\n",
       "    <tr>\n",
       "      <th>...</th>\n",
       "      <td>...</td>\n",
       "      <td>...</td>\n",
       "      <td>...</td>\n",
       "      <td>...</td>\n",
       "      <td>...</td>\n",
       "      <td>...</td>\n",
       "      <td>...</td>\n",
       "      <td>...</td>\n",
       "      <td>...</td>\n",
       "      <td>...</td>\n",
       "      <td>...</td>\n",
       "    </tr>\n",
       "    <tr>\n",
       "      <th>128</th>\n",
       "      <td>129</td>\n",
       "      <td>Rafael Sánchez Mazas</td>\n",
       "      <td>Mazas</td>\n",
       "      <td>1894</td>\n",
       "      <td>1966</td>\n",
       "      <td>male</td>\n",
       "      <td>4</td>\n",
       "      <td>1</td>\n",
       "      <td>1</td>\n",
       "      <td>72</td>\n",
       "      <td>0</td>\n",
       "    </tr>\n",
       "    <tr>\n",
       "      <th>129</th>\n",
       "      <td>130</td>\n",
       "      <td>Ramón del Valle-Inclán</td>\n",
       "      <td>Valle</td>\n",
       "      <td>1866</td>\n",
       "      <td>1936</td>\n",
       "      <td>male</td>\n",
       "      <td>162</td>\n",
       "      <td>13</td>\n",
       "      <td>16</td>\n",
       "      <td>70</td>\n",
       "      <td>5</td>\n",
       "    </tr>\n",
       "    <tr>\n",
       "      <th>130</th>\n",
       "      <td>131</td>\n",
       "      <td>Julio Camba</td>\n",
       "      <td>JCamba</td>\n",
       "      <td>1882</td>\n",
       "      <td>1962</td>\n",
       "      <td>male</td>\n",
       "      <td>1</td>\n",
       "      <td>0</td>\n",
       "      <td>7</td>\n",
       "      <td>80</td>\n",
       "      <td>4</td>\n",
       "    </tr>\n",
       "    <tr>\n",
       "      <th>131</th>\n",
       "      <td>132</td>\n",
       "      <td>Rubén Darío</td>\n",
       "      <td>Dario</td>\n",
       "      <td>1867</td>\n",
       "      <td>1916</td>\n",
       "      <td>male</td>\n",
       "      <td>50</td>\n",
       "      <td>2</td>\n",
       "      <td>3</td>\n",
       "      <td>49</td>\n",
       "      <td>6</td>\n",
       "    </tr>\n",
       "    <tr>\n",
       "      <th>132</th>\n",
       "      <td>133</td>\n",
       "      <td>Agustín de Foxá</td>\n",
       "      <td>Foxa</td>\n",
       "      <td>1906</td>\n",
       "      <td>1959</td>\n",
       "      <td>male</td>\n",
       "      <td>30</td>\n",
       "      <td>1</td>\n",
       "      <td>2</td>\n",
       "      <td>53</td>\n",
       "      <td>3</td>\n",
       "    </tr>\n",
       "  </tbody>\n",
       "</table>\n",
       "<p>133 rows × 11 columns</p>\n",
       "</div>"
      ],
      "text/plain": [
       "      id                     author-fullname      author  birth  death  \\\n",
       "0      1                   Rosalía de Castro    RdCastro   1837   1885   \n",
       "1      2               Enrique Pérez Escrich     Escrich   1829   1897   \n",
       "2      3  Antonio de Trueba y de la Quintana      Trueba   1819   1889   \n",
       "3      4                José Selgas Carrasco      Selgas   1822   1882   \n",
       "4      5        Francisco Navarro Villoslada  Villoslada   1818   1895   \n",
       "..   ...                                 ...         ...    ...    ...   \n",
       "128  129                Rafael Sánchez Mazas       Mazas   1894   1966   \n",
       "129  130              Ramón del Valle-Inclán       Valle   1866   1936   \n",
       "130  131                         Julio Camba      JCamba   1882   1962   \n",
       "131  132                         Rubén Darío       Dario   1867   1916   \n",
       "132  133                     Agustín de Foxá        Foxa   1906   1959   \n",
       "\n",
       "     gender pages-in-manual  novels  works  life-span digitzed-by  \n",
       "0    female              17       1      1         48           6  \n",
       "1      male               1       4     17         68           5  \n",
       "2      male               1       0      1         70           6  \n",
       "3      male               1       5      7         60         4,5  \n",
       "4      male             1,2       0      0         77         5.5  \n",
       "..      ...             ...     ...    ...        ...         ...  \n",
       "128    male               4       1      1         72           0  \n",
       "129    male             162      13     16         70           5  \n",
       "130    male               1       0      7         80           4  \n",
       "131    male              50       2      3         49           6  \n",
       "132    male              30       1      2         53           3  \n",
       "\n",
       "[133 rows x 11 columns]"
      ]
     },
     "execution_count": 16,
     "metadata": {},
     "output_type": "execute_result"
    }
   ],
   "source": [
    "span_auth = pd.read_csv(\"../../datasets/correlaciones/sp-authors.tsv\", sep=\"\\t\")\n",
    "span_auth"
   ]
  },
  {
   "cell_type": "markdown",
   "metadata": {
    "id": "yUY_WsKV4izY"
   },
   "source": [
    "- Inspect this dataset's contents via `describe()`."
   ]
  },
  {
   "cell_type": "code",
   "execution_count": 17,
   "metadata": {},
   "outputs": [
    {
     "data": {
      "text/html": [
       "<div>\n",
       "<style scoped>\n",
       "    .dataframe tbody tr th:only-of-type {\n",
       "        vertical-align: middle;\n",
       "    }\n",
       "\n",
       "    .dataframe tbody tr th {\n",
       "        vertical-align: top;\n",
       "    }\n",
       "\n",
       "    .dataframe thead th {\n",
       "        text-align: right;\n",
       "    }\n",
       "</style>\n",
       "<table border=\"1\" class=\"dataframe\">\n",
       "  <thead>\n",
       "    <tr style=\"text-align: right;\">\n",
       "      <th></th>\n",
       "      <th>id</th>\n",
       "      <th>birth</th>\n",
       "      <th>death</th>\n",
       "      <th>novels</th>\n",
       "      <th>works</th>\n",
       "      <th>life-span</th>\n",
       "    </tr>\n",
       "  </thead>\n",
       "  <tbody>\n",
       "    <tr>\n",
       "      <th>count</th>\n",
       "      <td>133.00000</td>\n",
       "      <td>133.000000</td>\n",
       "      <td>133.000000</td>\n",
       "      <td>133.000000</td>\n",
       "      <td>133.000000</td>\n",
       "      <td>133.000000</td>\n",
       "    </tr>\n",
       "    <tr>\n",
       "      <th>mean</th>\n",
       "      <td>67.00000</td>\n",
       "      <td>1879.022556</td>\n",
       "      <td>1946.721805</td>\n",
       "      <td>5.481203</td>\n",
       "      <td>11.939850</td>\n",
       "      <td>67.699248</td>\n",
       "    </tr>\n",
       "    <tr>\n",
       "      <th>std</th>\n",
       "      <td>38.53786</td>\n",
       "      <td>21.959835</td>\n",
       "      <td>26.964161</td>\n",
       "      <td>8.810807</td>\n",
       "      <td>21.437986</td>\n",
       "      <td>14.829835</td>\n",
       "    </tr>\n",
       "    <tr>\n",
       "      <th>min</th>\n",
       "      <td>1.00000</td>\n",
       "      <td>1818.000000</td>\n",
       "      <td>1882.000000</td>\n",
       "      <td>0.000000</td>\n",
       "      <td>0.000000</td>\n",
       "      <td>32.000000</td>\n",
       "    </tr>\n",
       "    <tr>\n",
       "      <th>25%</th>\n",
       "      <td>34.00000</td>\n",
       "      <td>1867.000000</td>\n",
       "      <td>1932.000000</td>\n",
       "      <td>1.000000</td>\n",
       "      <td>2.000000</td>\n",
       "      <td>58.000000</td>\n",
       "    </tr>\n",
       "    <tr>\n",
       "      <th>50%</th>\n",
       "      <td>67.00000</td>\n",
       "      <td>1882.000000</td>\n",
       "      <td>1947.000000</td>\n",
       "      <td>3.000000</td>\n",
       "      <td>6.000000</td>\n",
       "      <td>68.000000</td>\n",
       "    </tr>\n",
       "    <tr>\n",
       "      <th>75%</th>\n",
       "      <td>100.00000</td>\n",
       "      <td>1897.000000</td>\n",
       "      <td>1965.000000</td>\n",
       "      <td>7.000000</td>\n",
       "      <td>15.000000</td>\n",
       "      <td>80.000000</td>\n",
       "    </tr>\n",
       "    <tr>\n",
       "      <th>max</th>\n",
       "      <td>133.00000</td>\n",
       "      <td>1917.000000</td>\n",
       "      <td>2009.000000</td>\n",
       "      <td>63.000000</td>\n",
       "      <td>201.000000</td>\n",
       "      <td>103.000000</td>\n",
       "    </tr>\n",
       "  </tbody>\n",
       "</table>\n",
       "</div>"
      ],
      "text/plain": [
       "              id        birth        death      novels       works   life-span\n",
       "count  133.00000   133.000000   133.000000  133.000000  133.000000  133.000000\n",
       "mean    67.00000  1879.022556  1946.721805    5.481203   11.939850   67.699248\n",
       "std     38.53786    21.959835    26.964161    8.810807   21.437986   14.829835\n",
       "min      1.00000  1818.000000  1882.000000    0.000000    0.000000   32.000000\n",
       "25%     34.00000  1867.000000  1932.000000    1.000000    2.000000   58.000000\n",
       "50%     67.00000  1882.000000  1947.000000    3.000000    6.000000   68.000000\n",
       "75%    100.00000  1897.000000  1965.000000    7.000000   15.000000   80.000000\n",
       "max    133.00000  1917.000000  2009.000000   63.000000  201.000000  103.000000"
      ]
     },
     "execution_count": 17,
     "metadata": {},
     "output_type": "execute_result"
    }
   ],
   "source": [
    "span_auth.describe()"
   ]
  },
  {
   "cell_type": "markdown",
   "metadata": {
    "id": "dhWh1Xa64izZ"
   },
   "source": [
    "- How many columns are in the dataset? How many rows?"
   ]
  },
  {
   "cell_type": "code",
   "execution_count": 18,
   "metadata": {},
   "outputs": [
    {
     "data": {
      "text/plain": [
       "(133, 11)"
      ]
     },
     "execution_count": 18,
     "metadata": {},
     "output_type": "execute_result"
    }
   ],
   "source": [
    "span_auth.shape"
   ]
  },
  {
   "cell_type": "markdown",
   "metadata": {
    "id": "UxXvH9814izZ"
   },
   "source": [
    "- Print the column names that are used in the dataset."
   ]
  },
  {
   "cell_type": "code",
   "execution_count": 19,
   "metadata": {},
   "outputs": [
    {
     "data": {
      "text/plain": [
       "Index(['id', 'author-fullname', 'author', 'birth', 'death', 'gender',\n",
       "       'pages-in-manual', 'novels', 'works', 'life-span', 'digitzed-by'],\n",
       "      dtype='object')"
      ]
     },
     "execution_count": 19,
     "metadata": {},
     "output_type": "execute_result"
    }
   ],
   "source": [
    "span_auth.columns"
   ]
  },
  {
   "cell_type": "markdown",
   "metadata": {
    "id": "H0v3GiZT4izZ"
   },
   "source": [
    "- What's the number of female authors in the dataset? How many male authors does it contain? Make a barplot of the counts for both genders."
   ]
  },
  {
   "cell_type": "code",
   "execution_count": 20,
   "metadata": {},
   "outputs": [
    {
     "data": {
      "text/plain": [
       "gender\n",
       "male      125\n",
       "female      8\n",
       "Name: count, dtype: int64"
      ]
     },
     "execution_count": 20,
     "metadata": {},
     "output_type": "execute_result"
    }
   ],
   "source": [
    "span_auth.gender.value_counts()"
   ]
  },
  {
   "cell_type": "code",
   "execution_count": 21,
   "metadata": {},
   "outputs": [
    {
     "data": {
      "text/plain": [
       "<Axes: xlabel='gender'>"
      ]
     },
     "execution_count": 21,
     "metadata": {},
     "output_type": "execute_result"
    },
    {
     "data": {
      "image/png": "[encoded data removed]",
      "text/plain": [
       "<Figure size 640x480 with 1 Axes>"
      ]
     },
     "metadata": {},
     "output_type": "display_data"
    }
   ],
   "source": [
    "span_auth.gender.value_counts().plot.bar()"
   ]
  },
  {
   "cell_type": "markdown",
   "metadata": {
    "id": "_mjndzWr4iza"
   },
   "source": [
    "- Check out the \"life.span\" column, that lists the age of each author at her/his time of death. What was the age of the youngest and oldest author (at their time of death)? What is the range of this column?"
   ]
  },
  {
   "cell_type": "code",
   "execution_count": 22,
   "metadata": {},
   "outputs": [
    {
     "data": {
      "text/plain": [
       "count    133.000000\n",
       "mean      67.699248\n",
       "std       14.829835\n",
       "min       32.000000\n",
       "25%       58.000000\n",
       "50%       68.000000\n",
       "75%       80.000000\n",
       "max      103.000000\n",
       "Name: life-span, dtype: float64"
      ]
     },
     "execution_count": 22,
     "metadata": {},
     "output_type": "execute_result"
    }
   ],
   "source": [
    "# (check the min and max)\n",
    "\n",
    "span_auth[\"life-span\"].describe()"
   ]
  },
  {
   "cell_type": "markdown",
   "metadata": {
    "id": "MjZouyXR4iza"
   },
   "source": [
    "- Calculate the mean and standard deviation for the average for these authors' life spans, **without making use of the functions `mean()` and `std()`**. Use these functions afterwards to verify whether your calculation is correct."
   ]
  },
  {
   "cell_type": "code",
   "execution_count": 23,
   "metadata": {},
   "outputs": [
    {
     "name": "stdout",
     "output_type": "stream",
     "text": [
      "Mean: 67.69924812030075 (Check: 67.69924812030075)\n"
     ]
    }
   ],
   "source": [
    "m = span_auth[\"life-span\"].sum() / span_auth[\"life-span\"].size\n",
    "\n",
    "print(f\"Mean: {m} (Check: {span_auth['life-span'].mean()})\")"
   ]
  },
  {
   "cell_type": "code",
   "execution_count": 24,
   "metadata": {},
   "outputs": [
    {
     "name": "stdout",
     "output_type": "stream",
     "text": [
      "SD: 14.829835285056584 (Check: 14.829835285056584)\n"
     ]
    }
   ],
   "source": [
    "diffs = span_auth[\"life-span\"] - span_auth[\"life-span\"].mean()\n",
    "sum_sq_diffs = (diffs * diffs).sum()\n",
    "var = sum_sq_diffs / (span_auth[\"life-span\"].size - 1)\n",
    "sd = var ** (1 / 2)\n",
    "\n",
    "print(f\"SD: {sd} (Check: {span_auth['life-span'].std()})\")"
   ]
  },
  {
   "cell_type": "markdown",
   "metadata": {
    "id": "DDcZfKiA4izb"
   },
   "source": [
    "- Sort the dataframe by the 'works' column in **descending** order (most works first). Print the names of the first 7 authors by works (most works). Print the names of the last 7 authors by works (fewest works)."
   ]
  },
  {
   "cell_type": "code",
   "execution_count": null,
   "metadata": {},
   "outputs": [],
   "source": [
    "w = span_auth.sort_values(by=\"works\", ascending=False)\n",
    "print(w.head(7)[\"author-fullname\"])\n",
    "print(w.tail(7)[\"author-fullname\"])"
   ]
  },
  {
   "cell_type": "code",
   "execution_count": null,
   "metadata": {},
   "outputs": [],
   "source": [
    "# You could also do it like this:\n",
    "\n",
    "w = span_auth.sort_values(by=\"works\", ascending=False)\n",
    "print(w.head(7)[[\"author-fullname\", \"works\"]])\n",
    "print(w.tail(7)[[\"author-fullname\", \"works\"]])"
   ]
  },
  {
   "cell_type": "markdown",
   "metadata": {
    "id": "QY-621R94izb"
   },
   "source": [
    "- Plot the number of \"novels\" that these authors wrote as a function of the number of (other) \"works\" that they produced. What do you observe?\n",
    "\n",
    "##### Answer\n",
    "> There is certainly a correlation between the number of total works and the number of novels. Most of the datapoints are near the origin, with only a few outliers who wrote many works."
   ]
  },
  {
   "cell_type": "code",
   "execution_count": null,
   "metadata": {},
   "outputs": [],
   "source": [
    "span_auth.plot.scatter(x=\"novels\", y=\"works\")"
   ]
  },
  {
   "cell_type": "markdown",
   "metadata": {
    "id": "POD7Zdu-4izb"
   },
   "source": [
    "- What's the mode of the \"gender\" column in this dataset?"
   ]
  },
  {
   "cell_type": "code",
   "execution_count": null,
   "metadata": {},
   "outputs": [],
   "source": [
    "span_auth.gender.mode()"
   ]
  },
  {
   "cell_type": "markdown",
   "metadata": {
    "id": "5q0XUv714izb"
   },
   "source": [
    "## 3. Queer speech"
   ]
  },
  {
   "cell_type": "markdown",
   "metadata": {
    "id": "BMGXIPSC4izc"
   },
   "source": [
    "In the next session, we'll work with measurements of the \"pitch\" (i.e. the perceived frequency of sound) in the speech of Spanish-speaking adults. The dataset comes from a research project in the field of sociophonetics, in which the pitch of heterosexual men was compared to the pitch of homosexual men, as well as female speakers.\n",
    "\n",
    "- Load this dataset (it's a csv-file!) and dump the summary in a cell (evaluate it). You can find it as: `../datasets/queer/queer_speech.csv`"
   ]
  },
  {
   "cell_type": "code",
   "execution_count": null,
   "metadata": {},
   "outputs": [],
   "source": [
    "qs = pd.read_csv(\"../datasets/queer/queer_speech.csv\")\n",
    "qs"
   ]
  },
  {
   "cell_type": "code",
   "execution_count": null,
   "metadata": {},
   "outputs": [],
   "source": [
    "qs.columns"
   ]
  },
  {
   "cell_type": "markdown",
   "metadata": {
    "id": "uhN4M6qK4izc"
   },
   "source": [
    "- Calculate the normalized proportion of the number of men and women in the dataset."
   ]
  },
  {
   "cell_type": "code",
   "execution_count": null,
   "metadata": {},
   "outputs": [],
   "source": [
    "qs.sex.value_counts(normalize=True)"
   ]
  },
  {
   "cell_type": "markdown",
   "metadata": {
    "id": "2JY7DHyk4izc"
   },
   "source": [
    "- Create a new data frame, called \"male\", selecting only the male rows from the data."
   ]
  },
  {
   "cell_type": "code",
   "execution_count": null,
   "metadata": {},
   "outputs": [],
   "source": [
    "qsm = qs[qs.sex == \"M\"]\n",
    "qsm"
   ]
  },
  {
   "cell_type": "markdown",
   "metadata": {
    "id": "LFotHSwq4izc"
   },
   "source": [
    "- The average pitch of a speaker is represented in the column \"meanf0\". Calculate the mean and standard deviation for each of the two sexual orientations among the male speakers. Use a boxplot to compare the values for \"meanf0\" in both categories, including the \"notches\" from the sprint. Describe what you observe."
   ]
  },
  {
   "cell_type": "code",
   "execution_count": null,
   "metadata": {},
   "outputs": [],
   "source": [
    "qsm.groupby(\"orientation\")[\"meanf0\"].describe()"
   ]
  },
  {
   "cell_type": "code",
   "execution_count": null,
   "metadata": {},
   "outputs": [],
   "source": [
    "sns.boxplot(data=qsm, x=\"orientation\", y=\"meanf0\", notch=True)"
   ]
  },
  {
   "cell_type": "markdown",
   "metadata": {},
   "source": [
    "> SOLUTION: The median of the \"mean f0\" (base formant frequency) is actually slightly lower in the homosexual group. However there are some outliers in the heterosexual group, and more samples, so we will need to do more statistics to know if the differences mean anything."
   ]
  },
  {
   "cell_type": "markdown",
   "metadata": {},
   "source": [
    "- Add the means for each of the two orientations in the male speakers as orange circles to the box plots from the previous step."
   ]
  },
  {
   "cell_type": "code",
   "execution_count": null,
   "metadata": {},
   "outputs": [],
   "source": [
    "sns.boxplot(\n",
    "    data=qsm,\n",
    "    x=\"orientation\",\n",
    "    y=\"meanf0\",\n",
    "    notch=True,\n",
    "    showmeans=True,\n",
    "    meanprops={\n",
    "        \"marker\": \"o\",\n",
    "        \"markerfacecolor\": \"orange\",\n",
    "        \"markeredgecolor\": \"black\",\n",
    "        \"markersize\": \"9\",\n",
    "    },\n",
    ")"
   ]
  },
  {
   "cell_type": "markdown",
   "metadata": {
    "id": "8oWQAEc14izd"
   },
   "source": [
    "Now have a look at the \"f0sd\" column (which represents the standard deviation in pitch for each speaker). Convert this column to z-score and assign the result to a new column in the data.frame."
   ]
  },
  {
   "cell_type": "code",
   "execution_count": null,
   "metadata": {
    "id": "zXcabP2B4izd"
   },
   "outputs": [],
   "source": [
    "from sklearn.preprocessing import StandardScaler\n",
    "\n",
    "ss = StandardScaler()\n",
    "qs.insert(8, \"f0sdz\", ss.fit_transform(qs[[\"f0sd\"]]))\n",
    "qs"
   ]
  },
  {
   "cell_type": "markdown",
   "metadata": {
    "id": "fFWdBilO4izd"
   },
   "source": [
    "- *Hard*: Plot the z-scores for the standardized \"f0sd\" column with a box plot, for each of the three groups involved (heterosexual men, homosexual men, heterosexual women). One way is to create a new column for this, that combines \"sex\" and \"orientation\" (Look for help online as to how to do this.) Describe what you see."
   ]
  },
  {
   "cell_type": "code",
   "execution_count": null,
   "metadata": {},
   "outputs": [],
   "source": [
    "qs[\"sexont\"] = qs.sex + \" + \" + qs.orientation\n",
    "sns.boxplot(\n",
    "    data=qs,\n",
    "    x=\"sexont\",\n",
    "    y=\"f0sdz\",\n",
    ")"
   ]
  },
  {
   "cell_type": "markdown",
   "metadata": {},
   "source": [
    "> SOLUTION: The difficult part of this interpretation is remembering what we a looking at. First of all remember that a z-score of 0 is 'average' and the positive and negative values are \"number of standard deviations from the mean\". Now remember that we are scoring the standard deviation of \"f0\" (frequency), in other words \"how much the f0 varied for *this individual*\".\n",
    "\n",
    "> So the chart suggests that averaged across all participants, female speakers had the most overall variation of pitch, homosexual men had less, and heterosexual men *as a group* had the least, but there were a lot of more variable outliers."
   ]
  },
  {
   "cell_type": "markdown",
   "metadata": {},
   "source": [
    "By the way here is another way to add another 'dimension' to boxplots - we can tell seaborn to additionally colour (hue) by another column, effectively getting us the same combinations without creating a new column."
   ]
  },
  {
   "cell_type": "code",
   "execution_count": null,
   "metadata": {},
   "outputs": [],
   "source": [
    "sns.boxplot(\n",
    "    data=qs,\n",
    "    x=\"orientation\",\n",
    "    y=\"f0sdz\",\n",
    "    hue=\"sex\",\n",
    ")"
   ]
  },
  {
   "cell_type": "markdown",
   "metadata": {},
   "source": [
    "```\n",
    "Version History\n",
    "\n",
    "Current: v1.0.1\n",
    "\n",
    "9/18/24: 1.0.0: first draft, BN\n",
    "04/10/24: 1.0.0: typos + proofreading, MK\n",
    "```"
   ]
  },
  {
   "cell_type": "markdown",
   "metadata": {},
   "source": []
  }
 ],
 "metadata": {
  "colab": {
   "name": "1-7-home_exercises.ipynb",
   "provenance": []
  },
  "kernelspec": {
   "display_name": "py311",
   "language": "python",
   "name": "python3"
  },
  "language_info": {
   "codemirror_mode": {
    "name": "ipython",
    "version": 3
   },
   "file_extension": ".py",
   "mimetype": "text/x-python",
   "name": "python",
   "nbconvert_exporter": "python",
   "pygments_lexer": "ipython3",
   "version": "3.11.0"
  }
 },
 "nbformat": 4,
 "nbformat_minor": 1
}
