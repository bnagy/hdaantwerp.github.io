{
 "cells": [
  {
   "cell_type": "markdown",
   "metadata": {},
   "source": [
    "# Basic statistical tests"
   ]
  },
  {
   "cell_type": "markdown",
   "metadata": {},
   "source": [
    "*Gries, esp. chapter 4, pp. 136-246*"
   ]
  },
  {
   "cell_type": "markdown",
   "metadata": {},
   "source": [
    "In this sprint, we cover a whole array of conventional, often well-known tests from statistics. People will expect you to know these, as well as when to apply them, but you don't necessarily have to store all that information in your head. Most \"Stats 101\" courses, in fact, will introduce these tests using a flow chart like the one below (which is the one offered by Gries). By correctly answering the questions represented by the arrows it should in principle be easy to pick the test that you need -- even though this graph might seem overwhelming at first, as well as the fact that the questions that you have have to answer aren't always that easy.\n",
    "\n",
    "The good news is that, once you've identified the optimal test for your case, the application of the test tends to be pretty straightforward and standardized: you apply it (often in a single line of code), collect the relevant test statistic(s), and record the $p$-value(s). In fact, interpreting the output is often more difficult than running the actual analysis."
   ]
  },
  {
   "cell_type": "markdown",
   "metadata": {},
   "source": [
    "## The flowchart"
   ]
  },
  {
   "cell_type": "markdown",
   "metadata": {},
   "source": [
    "<img src=\"sflwr3_navigator.png\" />"
   ]
  },
  {
   "cell_type": "markdown",
   "metadata": {},
   "source": [
    "To navigate this flowchart, you'll have to be able to answer a couple clear questions about:\n",
    "- **measurements**: your data (i.e. the variables you want to use)\n",
    "- **intent**: your hypotheses (i.e. the questions that you want to see answered)\n",
    "\n",
    "The most important criteria to decide which test is appropriate for you, relate to the following issues:\n",
    "\n",
    "1. Which kind of variables do you have?\n",
    "    - categorical (AKA nominal), with levels\n",
    "    - ratio-scaled (doubles)\n",
    "    - counts (integers)\n",
    "    - ordinal\n",
    "    \n",
    "We haven't explicitly dealt with **ordinal variables** yet.\n",
    "- Ordinal variables can look like a categorical variable, because they also have levels. A crucial difference, however, is that the levels of an ordinal variable can be **ranked** or **ordered**. Information about different social classes (cf. socialdata) are a good example: on the surface, such levels look like categories, but these categories can be ordered from \"lower\" to \"higher\" social classes.\n",
    "- Ordinal variables can often look like a plain integer-encoded numeric variable, but that can be treacherous: take the famous [Likert scale](https://en.wikipedia.org/wiki/Likert_scale) that is often used in questionaires, asking for instance, how \"happy\" people are. Such **scales** might give the participant 7 options to express their current level of happiness; e.g.:\n",
    "\n",
    ">    1. very happy\n",
    ">    2. moderately happy\n",
    ">    3. slightly happy\n",
    ">    4. neutral\n",
    ">    5. slightly unhappy\n",
    ">    6. moderately unhappy\n",
    ">    7. unhappy\n",
    "    \n",
    "A crucial aspect of such scales is that it is **treacherous** to encode them with **integers**, because those suggest that the *difference between each two consecutive levels in the scale is always the same*. For a happiness judgment, however, that is probably not the case: the \"amount of happyiness\" that takes a respondent from 4 to 3, is probably not the same as the amount of happiness that is required to move a participant response from 2 to 1.\n",
    "\n",
    "Because of these two properties, ordinal variables often require a different kind of statistical test.\n",
    "    \n",
    "2. How many variables do you have?\n",
    "    - univariate (just one)\n",
    "    - bivariate (exactly two)\n",
    "    - (multivariate: more than two)\n",
    "    - bivariate: are your variables **paired** or **unpaired**? (See below)\n",
    "\n",
    "3. Which distributions (and variance) do your variables have?\n",
    "    - often, variables need to have a normal distribution (in fact, we'll also cover how you can test for **normality**)\n",
    "    - often, if you want to compare two variables, tests will require that they have a similar degree of variance\n",
    "    \n",
    "4. What's the size of your data?\n",
    "   - Many tests have a critical lower boundary for $n$\n",
    "   \n",
    "5. What's your question?\n",
    "   - means? distributions? variances?\n",
    "   - directional or undirectional?\n"
   ]
  },
  {
   "cell_type": "markdown",
   "metadata": {},
   "source": [
    "**Important:** for all of these tests, the same scenario applies:\n",
    " 1. pick (at least) one suitable test, e.g. using the flowchart\n",
    " 2. check the test's requirements (i.e. whether you're allowed to apply it)\n",
    " 3. apply it: get the statistic, $p$-value, and preferably some other things as well (e.g. confidence interval)\n",
    " 4. report it in proper prose, explicitly adding all relevant numbers"
   ]
  },
  {
   "cell_type": "code",
   "execution_count": 11,
   "metadata": {},
   "outputs": [],
   "source": [
    "import numpy as np\n",
    "import pandas as pd\n",
    "import matplotlib.pyplot as plt\n",
    "import seaborn as sns\n",
    "import scipy as sp\n",
    "import statsmodels.api as sm\n",
    "import math"
   ]
  },
  {
   "cell_type": "markdown",
   "metadata": {},
   "source": [
    "## Testing for normality\n",
    "\n",
    "*Gries, chapter 4, pp. 162-165*\n",
    "\n",
    "Some of the most common tests that you'll need target the \"normality\" of the values in a sample. We conspicuously postponed this matter in the previous sprints, but it's important to know which statistical tests to apply to check whether you can accept the hypothesis that the values in a sample were drawn from a normal distribution. This is simply, because so many other tests require that your data is normally distributed.\n",
    "\n",
    "Simply looking at the QQ plot (as we have done before) will often be enough to tell you that your data is *not* normal, but if you need to support the idea that it *is* normal should also run a formal test."
   ]
  },
  {
   "cell_type": "markdown",
   "metadata": {},
   "source": [
    "### Shapiro-Wilk\n",
    "\n",
    "A widely used procedure for checking normality is the **Shapiro-Wilk test**, implemented in the function `shapiro.test()`. The test is *monofactorial* and *univariate*: you only apply it to a single (numeric, ratio-scaled)  variable. Let us reload the data from the Spanish authors that we used in this session's first sprint, where we had variable that seemed normally distributed (\"life-span\"), and another, which seemed to be drawn from a wholly different kind of distribution (\"works\"). As recommended, we'll start by plotting our variables, to make sure that we know what is going on:"
   ]
  },
  {
   "cell_type": "code",
   "execution_count": 12,
   "metadata": {},
   "outputs": [
    {
     "data": {
      "text/html": [
       "<div>\n",
       "<style scoped>\n",
       "    .dataframe tbody tr th:only-of-type {\n",
       "        vertical-align: middle;\n",
       "    }\n",
       "\n",
       "    .dataframe tbody tr th {\n",
       "        vertical-align: top;\n",
       "    }\n",
       "\n",
       "    .dataframe thead th {\n",
       "        text-align: right;\n",
       "    }\n",
       "</style>\n",
       "<table border=\"1\" class=\"dataframe\">\n",
       "  <thead>\n",
       "    <tr style=\"text-align: right;\">\n",
       "      <th></th>\n",
       "      <th>id</th>\n",
       "      <th>author-fullname</th>\n",
       "      <th>author</th>\n",
       "      <th>birth</th>\n",
       "      <th>death</th>\n",
       "      <th>gender</th>\n",
       "      <th>pages-in-manual</th>\n",
       "      <th>novels</th>\n",
       "      <th>works</th>\n",
       "      <th>life-span</th>\n",
       "      <th>digitzed-by</th>\n",
       "    </tr>\n",
       "  </thead>\n",
       "  <tbody>\n",
       "    <tr>\n",
       "      <th>0</th>\n",
       "      <td>1</td>\n",
       "      <td>Rosalía de Castro</td>\n",
       "      <td>RdCastro</td>\n",
       "      <td>1837</td>\n",
       "      <td>1885</td>\n",
       "      <td>female</td>\n",
       "      <td>17</td>\n",
       "      <td>1</td>\n",
       "      <td>1</td>\n",
       "      <td>48</td>\n",
       "      <td>6</td>\n",
       "    </tr>\n",
       "    <tr>\n",
       "      <th>1</th>\n",
       "      <td>2</td>\n",
       "      <td>Enrique Pérez Escrich</td>\n",
       "      <td>Escrich</td>\n",
       "      <td>1829</td>\n",
       "      <td>1897</td>\n",
       "      <td>male</td>\n",
       "      <td>1</td>\n",
       "      <td>4</td>\n",
       "      <td>17</td>\n",
       "      <td>68</td>\n",
       "      <td>5</td>\n",
       "    </tr>\n",
       "    <tr>\n",
       "      <th>2</th>\n",
       "      <td>3</td>\n",
       "      <td>Antonio de Trueba y de la Quintana</td>\n",
       "      <td>Trueba</td>\n",
       "      <td>1819</td>\n",
       "      <td>1889</td>\n",
       "      <td>male</td>\n",
       "      <td>1</td>\n",
       "      <td>0</td>\n",
       "      <td>1</td>\n",
       "      <td>70</td>\n",
       "      <td>6</td>\n",
       "    </tr>\n",
       "    <tr>\n",
       "      <th>3</th>\n",
       "      <td>4</td>\n",
       "      <td>José Selgas Carrasco</td>\n",
       "      <td>Selgas</td>\n",
       "      <td>1822</td>\n",
       "      <td>1882</td>\n",
       "      <td>male</td>\n",
       "      <td>1</td>\n",
       "      <td>5</td>\n",
       "      <td>7</td>\n",
       "      <td>60</td>\n",
       "      <td>4,5</td>\n",
       "    </tr>\n",
       "    <tr>\n",
       "      <th>4</th>\n",
       "      <td>5</td>\n",
       "      <td>Francisco Navarro Villoslada</td>\n",
       "      <td>Villoslada</td>\n",
       "      <td>1818</td>\n",
       "      <td>1895</td>\n",
       "      <td>male</td>\n",
       "      <td>1,2</td>\n",
       "      <td>0</td>\n",
       "      <td>0</td>\n",
       "      <td>77</td>\n",
       "      <td>5.5</td>\n",
       "    </tr>\n",
       "    <tr>\n",
       "      <th>...</th>\n",
       "      <td>...</td>\n",
       "      <td>...</td>\n",
       "      <td>...</td>\n",
       "      <td>...</td>\n",
       "      <td>...</td>\n",
       "      <td>...</td>\n",
       "      <td>...</td>\n",
       "      <td>...</td>\n",
       "      <td>...</td>\n",
       "      <td>...</td>\n",
       "      <td>...</td>\n",
       "    </tr>\n",
       "    <tr>\n",
       "      <th>128</th>\n",
       "      <td>129</td>\n",
       "      <td>Rafael Sánchez Mazas</td>\n",
       "      <td>Mazas</td>\n",
       "      <td>1894</td>\n",
       "      <td>1966</td>\n",
       "      <td>male</td>\n",
       "      <td>4</td>\n",
       "      <td>1</td>\n",
       "      <td>1</td>\n",
       "      <td>72</td>\n",
       "      <td>0</td>\n",
       "    </tr>\n",
       "    <tr>\n",
       "      <th>129</th>\n",
       "      <td>130</td>\n",
       "      <td>Ramón del Valle-Inclán</td>\n",
       "      <td>Valle</td>\n",
       "      <td>1866</td>\n",
       "      <td>1936</td>\n",
       "      <td>male</td>\n",
       "      <td>162</td>\n",
       "      <td>13</td>\n",
       "      <td>16</td>\n",
       "      <td>70</td>\n",
       "      <td>5</td>\n",
       "    </tr>\n",
       "    <tr>\n",
       "      <th>130</th>\n",
       "      <td>131</td>\n",
       "      <td>Julio Camba</td>\n",
       "      <td>JCamba</td>\n",
       "      <td>1882</td>\n",
       "      <td>1962</td>\n",
       "      <td>male</td>\n",
       "      <td>1</td>\n",
       "      <td>0</td>\n",
       "      <td>7</td>\n",
       "      <td>80</td>\n",
       "      <td>4</td>\n",
       "    </tr>\n",
       "    <tr>\n",
       "      <th>131</th>\n",
       "      <td>132</td>\n",
       "      <td>Rubén Darío</td>\n",
       "      <td>Dario</td>\n",
       "      <td>1867</td>\n",
       "      <td>1916</td>\n",
       "      <td>male</td>\n",
       "      <td>50</td>\n",
       "      <td>2</td>\n",
       "      <td>3</td>\n",
       "      <td>49</td>\n",
       "      <td>6</td>\n",
       "    </tr>\n",
       "    <tr>\n",
       "      <th>132</th>\n",
       "      <td>133</td>\n",
       "      <td>Agustín de Foxá</td>\n",
       "      <td>Foxa</td>\n",
       "      <td>1906</td>\n",
       "      <td>1959</td>\n",
       "      <td>male</td>\n",
       "      <td>30</td>\n",
       "      <td>1</td>\n",
       "      <td>2</td>\n",
       "      <td>53</td>\n",
       "      <td>3</td>\n",
       "    </tr>\n",
       "  </tbody>\n",
       "</table>\n",
       "<p>133 rows × 11 columns</p>\n",
       "</div>"
      ],
      "text/plain": [
       "      id                     author-fullname      author  birth  death  \\\n",
       "0      1                   Rosalía de Castro    RdCastro   1837   1885   \n",
       "1      2               Enrique Pérez Escrich     Escrich   1829   1897   \n",
       "2      3  Antonio de Trueba y de la Quintana      Trueba   1819   1889   \n",
       "3      4                José Selgas Carrasco      Selgas   1822   1882   \n",
       "4      5        Francisco Navarro Villoslada  Villoslada   1818   1895   \n",
       "..   ...                                 ...         ...    ...    ...   \n",
       "128  129                Rafael Sánchez Mazas       Mazas   1894   1966   \n",
       "129  130              Ramón del Valle-Inclán       Valle   1866   1936   \n",
       "130  131                         Julio Camba      JCamba   1882   1962   \n",
       "131  132                         Rubén Darío       Dario   1867   1916   \n",
       "132  133                     Agustín de Foxá        Foxa   1906   1959   \n",
       "\n",
       "     gender pages-in-manual  novels  works  life-span digitzed-by  \n",
       "0    female              17       1      1         48           6  \n",
       "1      male               1       4     17         68           5  \n",
       "2      male               1       0      1         70           6  \n",
       "3      male               1       5      7         60         4,5  \n",
       "4      male             1,2       0      0         77         5.5  \n",
       "..      ...             ...     ...    ...        ...         ...  \n",
       "128    male               4       1      1         72           0  \n",
       "129    male             162      13     16         70           5  \n",
       "130    male               1       0      7         80           4  \n",
       "131    male              50       2      3         49           6  \n",
       "132    male              30       1      2         53           3  \n",
       "\n",
       "[133 rows x 11 columns]"
      ]
     },
     "execution_count": 12,
     "metadata": {},
     "output_type": "execute_result"
    }
   ],
   "source": [
    "df = pd.read_csv(\"../../datasets/correlaciones/sp-authors.tsv\", sep=\"\\t\")\n",
    "df"
   ]
  },
  {
   "cell_type": "code",
   "execution_count": 13,
   "metadata": {},
   "outputs": [
    {
     "data": {
      "image/png": "[encoded data removed]",
      "text/plain": [
       "<Figure size 640x480 with 1 Axes>"
      ]
     },
     "metadata": {},
     "output_type": "display_data"
    }
   ],
   "source": [
    "sns.histplot(\n",
    "    df,\n",
    "    x=\"life-span\",\n",
    "    color=\"orange\",\n",
    "    stat=\"density\",\n",
    "    bins=25,\n",
    ")\n",
    "sns.kdeplot(df, x=\"life-span\", color=\"blue\", linestyle=\"--\")\n",
    "plt.show()"
   ]
  },
  {
   "cell_type": "code",
   "execution_count": 14,
   "metadata": {},
   "outputs": [
    {
     "data": {
      "image/png": "[encoded data removed]",
      "text/plain": [
       "<Figure size 640x480 with 1 Axes>"
      ]
     },
     "metadata": {},
     "output_type": "display_data"
    }
   ],
   "source": [
    "sns.histplot(\n",
    "    df,\n",
    "    x=\"works\",\n",
    "    color=\"salmon\",\n",
    "    stat=\"density\",\n",
    "    bins=25,\n",
    ")\n",
    "sns.kdeplot(df, x=\"works\", color=\"blue\", linestyle=\"--\")\n",
    "plt.show()"
   ]
  },
  {
   "cell_type": "markdown",
   "metadata": {},
   "source": [
    "Let us apply Shapiro-Wilk to verify our intuition statistically:"
   ]
  },
  {
   "cell_type": "code",
   "execution_count": 15,
   "metadata": {},
   "outputs": [
    {
     "name": "stdout",
     "output_type": "stream",
     "text": [
      "Shapiro-Wilk on life-span: ShapiroResult(statistic=0.9909175496986184, pvalue=0.5425859608643291)\n",
      "Shapiro-Wilk on works: ShapiroResult(statistic=0.44653065985042906, pvalue=2.807776354270452e-20)\n"
     ]
    }
   ],
   "source": [
    "print(f\"Shapiro-Wilk on life-span: {sp.stats.shapiro(df['life-span'])}\")\n",
    "print(f\"Shapiro-Wilk on works: {sp.stats.shapiro(df['works'])}\")"
   ]
  },
  {
   "cell_type": "code",
   "execution_count": 16,
   "metadata": {},
   "outputs": [
    {
     "data": {
      "text/plain": [
       "ShapiroResult(statistic=0.44653065985042906, pvalue=2.807776354270452e-20)"
      ]
     },
     "execution_count": 16,
     "metadata": {},
     "output_type": "execute_result"
    }
   ],
   "source": [
    "sp.stats.shapiro(df[\"works\"])"
   ]
  },
  {
   "cell_type": "markdown",
   "metadata": {},
   "source": [
    "*Look at these $p$-values? Do these correspond to our initial hypothesis?* At this point, we should mention that there is something very **abnormal** about the procedures that we use to check for normality: typically, a test is set up in such a way that the null hypothesis ($H_0$) is the less interesting one, with the alternative hypothesis ($H_1$) as the more interesting, more daring hypothesis that a researcher might like to prove.\n",
    "\n",
    "The $p$-value that we get from a procedure can be interpreted as the plausibility that the null-hypothesis is true: in the conventional setting, researchers are typically looking for a *low* $p$-value, since that would prove their alternative point. (When people are \"$p$-hacking\" or \"$p$-fishing\" they're often fishing for *low* $p$-values). In the case of Shapiro-Wilk, however, the null hypothesis is the hypothesis that the *data is indeed normally distributed*. Thus, the way you read the output of this test \"reverses\": often you'll need your data to be normally distributed, and thus you might be hoping to obtain a high $p$-value for the null hypothesis.\n",
    "\n",
    "In the present case, that explains why we get a very high value for \"life.span\" (which is indeed normally distributed, since we can accept the null hypothesis), and a very low value for \"works\" (which is definitely not normally distributed, and we are on solid ground to reject $H_0$ with such a tiny $p$-value). In the end, no feelings like \"hope\" should be involved when interpreting the output of a test -- the data are what they are. Nevertheless, it's important to stress how these tests have to be read in a way that reverses how we would normally read a test's output."
   ]
  },
  {
   "cell_type": "markdown",
   "metadata": {},
   "source": [
    "> TAKEAWAY: Always read the assumptions and $H_0$ for your tests! The scipy documentation is excellent, and will almost always have a clear explanation, as well as application examples and links to the statistical literature (if you need it). The documentation for Shapiro-Wilk is [here](https://docs.scipy.org/doc/scipy/reference/generated/scipy.stats.shapiro.html)."
   ]
  },
  {
   "cell_type": "markdown",
   "metadata": {},
   "source": [
    "> EXERCISE\n",
    ">\n",
    "> Read the documentation, and answer this question. If we have a $p$-value from Shapiro-Wilk above the critical threshold, can we statistically conclude that the data is normally distributed?"
   ]
  },
  {
   "cell_type": "markdown",
   "metadata": {},
   "source": [
    "### Kolmogorov-Smirnov"
   ]
  },
  {
   "cell_type": "markdown",
   "metadata": {},
   "source": [
    "*Gries, chapter 4, pp. 172-178*\n",
    "\n",
    "Shapiro-Wilk belongs to the family of so-called **goodness-of-fit tests**: it essentially tests how well your data \"fit\" a theoretical distribution, like the normal. One serious drawback of `sp.stats.shapiro()` is that the $p$-value is only guaranteed to be accurate for samples of up to **5,000 data points**. Luckily, there a number of alternatives that do not have that restriction. A very commonly used **goodness-of-fit test**, that you can also use to test for normality is the Kolgomorov-Smirnov procedure, implemented as `sp.stats.kstest()`. Calling the function is slightly more complex, as we'll have to explicitly specify which distribution we expect, as well as the main properties, by which we expect that distribution to be parametrized:"
   ]
  },
  {
   "cell_type": "code",
   "execution_count": 17,
   "metadata": {},
   "outputs": [
    {
     "data": {
      "text/plain": [
       "KstestResult(statistic=0.05973575082543403, pvalue=0.7066655177919476, statistic_location=80, statistic_sign=-1)"
      ]
     },
     "execution_count": 17,
     "metadata": {},
     "output_type": "execute_result"
    }
   ],
   "source": [
    "# define theoretical distribution to test against\n",
    "lifenorm = sp.stats.norm(loc=df[\"life-span\"].mean(), scale=df[\"life-span\"].std())\n",
    "# run the test\n",
    "sp.stats.kstest(df[\"life-span\"], lifenorm.cdf, alternative=\"two-sided\")"
   ]
  },
  {
   "cell_type": "markdown",
   "metadata": {},
   "source": [
    "This method `sp.stats.kstest` can perform either a *one-sample* or *two-sample* test. Here, we used a *one-sample* test, which tests a sample against a theoretical distribution (we will talk about *two-sample* tests later). If we want to be very clear in our code we could use the specific method `ks_1samp` to get the same result."
   ]
  },
  {
   "cell_type": "code",
   "execution_count": 18,
   "metadata": {},
   "outputs": [
    {
     "data": {
      "text/plain": [
       "KstestResult(statistic=0.05973575082543403, pvalue=0.7066655177919476, statistic_location=80, statistic_sign=-1)"
      ]
     },
     "execution_count": 18,
     "metadata": {},
     "output_type": "execute_result"
    }
   ],
   "source": [
    "sp.stats.ks_1samp(df[\"life-span\"], cdf=lifenorm.cdf, alternative=\"two-sided\")"
   ]
  },
  {
   "cell_type": "markdown",
   "metadata": {},
   "source": [
    "Now we test the `works` column"
   ]
  },
  {
   "cell_type": "code",
   "execution_count": 19,
   "metadata": {},
   "outputs": [
    {
     "data": {
      "text/plain": [
       "KstestResult(statistic=0.9461286438710989, pvalue=3.72935956668284e-169, statistic_location=36, statistic_sign=1)"
      ]
     },
     "execution_count": 19,
     "metadata": {},
     "output_type": "execute_result"
    }
   ],
   "source": [
    "worksnorm = sp.stats.norm(loc=df[\"works\"].mean(), scale=df[\"works\"].std())\n",
    "sp.stats.kstest(df[\"works\"], lifenorm.cdf, alternative=\"two-sided\")"
   ]
  },
  {
   "cell_type": "markdown",
   "metadata": {},
   "source": [
    "## Testing for variance\n",
    "\n",
    "#### F-test for homogeneity of variances"
   ]
  },
  {
   "cell_type": "markdown",
   "metadata": {},
   "source": [
    "Related to the question of whether two values have the same distribution, is the question whether two variables have the same **dispersion**. Two variables, for instance, even if they are both normally distributed, might have a similar mean, but a different standard deviation, so that the dispersion around in the mean in both samples is very different. In this section, we'll cover the **F-test for homogeneity of variances**. This procedure will test\n",
    "- whether one group of values is more/less variable than another group of values (*one-tailed*)\n",
    "- whether there's (just) a difference in variability between two groups of values (*two-tailed*)\n",
    "\n",
    "This isn't a test we'll often use, but we discuss it, because the F-test is an excellent illustration of the complex dependency chains can exist between different statistical tests: before you could apply the famous t-test (discussed below), you have to make sure that two groups have similar variances, which you can assess using the F-test. The F-test itself, however, **assumes that the values in your two groups are normally distributed** (for which you'd need e.g. `shapiro()`).\n",
    "\n",
    "As a case study, let us return to the queer speech example:"
   ]
  },
  {
   "cell_type": "code",
   "execution_count": 20,
   "metadata": {},
   "outputs": [
    {
     "data": {
      "text/html": [
       "<div>\n",
       "<style scoped>\n",
       "    .dataframe tbody tr th:only-of-type {\n",
       "        vertical-align: middle;\n",
       "    }\n",
       "\n",
       "    .dataframe tbody tr th {\n",
       "        vertical-align: top;\n",
       "    }\n",
       "\n",
       "    .dataframe thead th {\n",
       "        text-align: right;\n",
       "    }\n",
       "</style>\n",
       "<table border=\"1\" class=\"dataframe\">\n",
       "  <thead>\n",
       "    <tr style=\"text-align: right;\">\n",
       "      <th></th>\n",
       "      <th>ID</th>\n",
       "      <th>sex</th>\n",
       "      <th>age</th>\n",
       "      <th>orientation</th>\n",
       "      <th>Testosterone</th>\n",
       "      <th>time</th>\n",
       "      <th>meanf0</th>\n",
       "      <th>f0sd</th>\n",
       "      <th>jitter</th>\n",
       "      <th>HNR</th>\n",
       "      <th>country_birth</th>\n",
       "      <th>mother_country</th>\n",
       "      <th>gp_father_maternal_country</th>\n",
       "      <th>gp_mother_maternal_country</th>\n",
       "      <th>father_country</th>\n",
       "      <th>gp_father_paternal_country</th>\n",
       "      <th>gp_mother_paternal_country</th>\n",
       "      <th>relationship</th>\n",
       "      <th>education</th>\n",
       "      <th>monthly_income</th>\n",
       "    </tr>\n",
       "  </thead>\n",
       "  <tbody>\n",
       "    <tr>\n",
       "      <th>0</th>\n",
       "      <td>AA_110118_11</td>\n",
       "      <td>M</td>\n",
       "      <td>23</td>\n",
       "      <td>homosexual</td>\n",
       "      <td>178.866</td>\n",
       "      <td>41.41</td>\n",
       "      <td>103.50</td>\n",
       "      <td>13.48</td>\n",
       "      <td>2.63</td>\n",
       "      <td>9.53</td>\n",
       "      <td>france</td>\n",
       "      <td>france</td>\n",
       "      <td>france</td>\n",
       "      <td>france</td>\n",
       "      <td>france</td>\n",
       "      <td>france</td>\n",
       "      <td>france</td>\n",
       "      <td>no</td>\n",
       "      <td>Bac+4</td>\n",
       "      <td>1</td>\n",
       "    </tr>\n",
       "    <tr>\n",
       "      <th>1</th>\n",
       "      <td>AAV_06122017_4</td>\n",
       "      <td>M</td>\n",
       "      <td>21</td>\n",
       "      <td>heterosexual</td>\n",
       "      <td>108.809</td>\n",
       "      <td>44.09</td>\n",
       "      <td>108.76</td>\n",
       "      <td>13.24</td>\n",
       "      <td>2.01</td>\n",
       "      <td>10.21</td>\n",
       "      <td>france</td>\n",
       "      <td>france</td>\n",
       "      <td>france</td>\n",
       "      <td>france</td>\n",
       "      <td>france</td>\n",
       "      <td>france</td>\n",
       "      <td>france</td>\n",
       "      <td>yes</td>\n",
       "      <td>Bac+2</td>\n",
       "      <td>1</td>\n",
       "    </tr>\n",
       "    <tr>\n",
       "      <th>2</th>\n",
       "      <td>AAV_110118_10</td>\n",
       "      <td>M</td>\n",
       "      <td>24</td>\n",
       "      <td>heterosexual</td>\n",
       "      <td>100.154</td>\n",
       "      <td>32.81</td>\n",
       "      <td>91.42</td>\n",
       "      <td>13.99</td>\n",
       "      <td>2.38</td>\n",
       "      <td>9.33</td>\n",
       "      <td>france</td>\n",
       "      <td>france</td>\n",
       "      <td>france</td>\n",
       "      <td>france</td>\n",
       "      <td>france</td>\n",
       "      <td>france</td>\n",
       "      <td>france</td>\n",
       "      <td>yes</td>\n",
       "      <td>Bac+5</td>\n",
       "      <td>1</td>\n",
       "    </tr>\n",
       "    <tr>\n",
       "      <th>3</th>\n",
       "      <td>AAV_12122017_5</td>\n",
       "      <td>M</td>\n",
       "      <td>22</td>\n",
       "      <td>heterosexual</td>\n",
       "      <td>137.178</td>\n",
       "      <td>46.73</td>\n",
       "      <td>109.77</td>\n",
       "      <td>20.68</td>\n",
       "      <td>3.06</td>\n",
       "      <td>9.39</td>\n",
       "      <td>france</td>\n",
       "      <td>france</td>\n",
       "      <td>france</td>\n",
       "      <td>france</td>\n",
       "      <td>france</td>\n",
       "      <td>france</td>\n",
       "      <td>france</td>\n",
       "      <td>yes</td>\n",
       "      <td>Bac+3</td>\n",
       "      <td>1</td>\n",
       "    </tr>\n",
       "    <tr>\n",
       "      <th>4</th>\n",
       "      <td>AAV_131217_6</td>\n",
       "      <td>M</td>\n",
       "      <td>22</td>\n",
       "      <td>homosexual</td>\n",
       "      <td>98.721</td>\n",
       "      <td>39.57</td>\n",
       "      <td>117.36</td>\n",
       "      <td>13.68</td>\n",
       "      <td>1.66</td>\n",
       "      <td>12.62</td>\n",
       "      <td>france</td>\n",
       "      <td>france</td>\n",
       "      <td>france</td>\n",
       "      <td>france</td>\n",
       "      <td>france</td>\n",
       "      <td>france</td>\n",
       "      <td>france</td>\n",
       "      <td>no</td>\n",
       "      <td>Bac+3</td>\n",
       "      <td>1</td>\n",
       "    </tr>\n",
       "    <tr>\n",
       "      <th>...</th>\n",
       "      <td>...</td>\n",
       "      <td>...</td>\n",
       "      <td>...</td>\n",
       "      <td>...</td>\n",
       "      <td>...</td>\n",
       "      <td>...</td>\n",
       "      <td>...</td>\n",
       "      <td>...</td>\n",
       "      <td>...</td>\n",
       "      <td>...</td>\n",
       "      <td>...</td>\n",
       "      <td>...</td>\n",
       "      <td>...</td>\n",
       "      <td>...</td>\n",
       "      <td>...</td>\n",
       "      <td>...</td>\n",
       "      <td>...</td>\n",
       "      <td>...</td>\n",
       "      <td>...</td>\n",
       "      <td>...</td>\n",
       "    </tr>\n",
       "    <tr>\n",
       "      <th>155</th>\n",
       "      <td>VAA_200118_3</td>\n",
       "      <td>M</td>\n",
       "      <td>30</td>\n",
       "      <td>heterosexual</td>\n",
       "      <td>121.875</td>\n",
       "      <td>32.26</td>\n",
       "      <td>99.31</td>\n",
       "      <td>14.19</td>\n",
       "      <td>3.60</td>\n",
       "      <td>8.04</td>\n",
       "      <td>france</td>\n",
       "      <td>france</td>\n",
       "      <td>france</td>\n",
       "      <td>france</td>\n",
       "      <td>france</td>\n",
       "      <td>europe</td>\n",
       "      <td>europe</td>\n",
       "      <td>yes</td>\n",
       "      <td>Bac+5</td>\n",
       "      <td>7</td>\n",
       "    </tr>\n",
       "    <tr>\n",
       "      <th>156</th>\n",
       "      <td>VAA_200118_5</td>\n",
       "      <td>M</td>\n",
       "      <td>31</td>\n",
       "      <td>heterosexual</td>\n",
       "      <td>112.249</td>\n",
       "      <td>40.77</td>\n",
       "      <td>123.59</td>\n",
       "      <td>27.43</td>\n",
       "      <td>2.57</td>\n",
       "      <td>10.95</td>\n",
       "      <td>france</td>\n",
       "      <td>france</td>\n",
       "      <td>france</td>\n",
       "      <td>france</td>\n",
       "      <td>france</td>\n",
       "      <td>france</td>\n",
       "      <td>france</td>\n",
       "      <td>yes</td>\n",
       "      <td>Bac+5</td>\n",
       "      <td>6</td>\n",
       "    </tr>\n",
       "    <tr>\n",
       "      <th>157</th>\n",
       "      <td>VAA_230118_1</td>\n",
       "      <td>M</td>\n",
       "      <td>24</td>\n",
       "      <td>heterosexual</td>\n",
       "      <td>136.869</td>\n",
       "      <td>39.02</td>\n",
       "      <td>109.06</td>\n",
       "      <td>24.16</td>\n",
       "      <td>2.62</td>\n",
       "      <td>10.36</td>\n",
       "      <td>france</td>\n",
       "      <td>france</td>\n",
       "      <td>france</td>\n",
       "      <td>france</td>\n",
       "      <td>france</td>\n",
       "      <td>france</td>\n",
       "      <td>france</td>\n",
       "      <td>yes</td>\n",
       "      <td>Bac+5</td>\n",
       "      <td>3</td>\n",
       "    </tr>\n",
       "    <tr>\n",
       "      <th>158</th>\n",
       "      <td>VAA_230118_2</td>\n",
       "      <td>M</td>\n",
       "      <td>25</td>\n",
       "      <td>heterosexual</td>\n",
       "      <td>116.582</td>\n",
       "      <td>34.56</td>\n",
       "      <td>85.70</td>\n",
       "      <td>19.40</td>\n",
       "      <td>3.29</td>\n",
       "      <td>8.78</td>\n",
       "      <td>france</td>\n",
       "      <td>france</td>\n",
       "      <td>france</td>\n",
       "      <td>france</td>\n",
       "      <td>france</td>\n",
       "      <td>france</td>\n",
       "      <td>france</td>\n",
       "      <td>yes</td>\n",
       "      <td>Bac+5</td>\n",
       "      <td>5</td>\n",
       "    </tr>\n",
       "    <tr>\n",
       "      <th>159</th>\n",
       "      <td>VAA_240118_1</td>\n",
       "      <td>M</td>\n",
       "      <td>24</td>\n",
       "      <td>heterosexual</td>\n",
       "      <td>112.288</td>\n",
       "      <td>32.29</td>\n",
       "      <td>126.68</td>\n",
       "      <td>13.01</td>\n",
       "      <td>1.84</td>\n",
       "      <td>9.33</td>\n",
       "      <td>france</td>\n",
       "      <td>france</td>\n",
       "      <td>france</td>\n",
       "      <td>france</td>\n",
       "      <td>france</td>\n",
       "      <td>france</td>\n",
       "      <td>france</td>\n",
       "      <td>yes</td>\n",
       "      <td>Bac+4</td>\n",
       "      <td>4</td>\n",
       "    </tr>\n",
       "  </tbody>\n",
       "</table>\n",
       "<p>160 rows × 20 columns</p>\n",
       "</div>"
      ],
      "text/plain": [
       "                 ID sex  age   orientation  Testosterone   time  meanf0  \\\n",
       "0      AA_110118_11   M   23    homosexual       178.866  41.41  103.50   \n",
       "1    AAV_06122017_4   M   21  heterosexual       108.809  44.09  108.76   \n",
       "2     AAV_110118_10   M   24  heterosexual       100.154  32.81   91.42   \n",
       "3    AAV_12122017_5   M   22  heterosexual       137.178  46.73  109.77   \n",
       "4      AAV_131217_6   M   22    homosexual        98.721  39.57  117.36   \n",
       "..              ...  ..  ...           ...           ...    ...     ...   \n",
       "155    VAA_200118_3   M   30  heterosexual       121.875  32.26   99.31   \n",
       "156    VAA_200118_5   M   31  heterosexual       112.249  40.77  123.59   \n",
       "157    VAA_230118_1   M   24  heterosexual       136.869  39.02  109.06   \n",
       "158    VAA_230118_2   M   25  heterosexual       116.582  34.56   85.70   \n",
       "159    VAA_240118_1   M   24  heterosexual       112.288  32.29  126.68   \n",
       "\n",
       "      f0sd  jitter    HNR country_birth mother_country  \\\n",
       "0    13.48    2.63   9.53        france         france   \n",
       "1    13.24    2.01  10.21        france         france   \n",
       "2    13.99    2.38   9.33        france         france   \n",
       "3    20.68    3.06   9.39        france         france   \n",
       "4    13.68    1.66  12.62        france         france   \n",
       "..     ...     ...    ...           ...            ...   \n",
       "155  14.19    3.60   8.04        france         france   \n",
       "156  27.43    2.57  10.95        france         france   \n",
       "157  24.16    2.62  10.36        france         france   \n",
       "158  19.40    3.29   8.78        france         france   \n",
       "159  13.01    1.84   9.33        france         france   \n",
       "\n",
       "    gp_father_maternal_country  gp_mother_maternal_country  father_country  \\\n",
       "0                        france                      france         france   \n",
       "1                        france                      france         france   \n",
       "2                        france                      france         france   \n",
       "3                        france                      france         france   \n",
       "4                        france                      france         france   \n",
       "..                          ...                         ...            ...   \n",
       "155                      france                      france         france   \n",
       "156                      france                      france         france   \n",
       "157                      france                      france         france   \n",
       "158                      france                      france         france   \n",
       "159                      france                      france         france   \n",
       "\n",
       "    gp_father_paternal_country  gp_mother_paternal_country  relationship  \\\n",
       "0                        france                      france           no   \n",
       "1                        france                      france          yes   \n",
       "2                        france                      france          yes   \n",
       "3                        france                      france          yes   \n",
       "4                        france                      france           no   \n",
       "..                          ...                         ...          ...   \n",
       "155                      europe                      europe          yes   \n",
       "156                      france                      france          yes   \n",
       "157                      france                      france          yes   \n",
       "158                      france                      france          yes   \n",
       "159                      france                      france          yes   \n",
       "\n",
       "    education  monthly_income  \n",
       "0       Bac+4               1  \n",
       "1       Bac+2               1  \n",
       "2       Bac+5               1  \n",
       "3       Bac+3               1  \n",
       "4       Bac+3               1  \n",
       "..        ...             ...  \n",
       "155     Bac+5               7  \n",
       "156     Bac+5               6  \n",
       "157     Bac+5               3  \n",
       "158     Bac+5               5  \n",
       "159     Bac+4               4  \n",
       "\n",
       "[160 rows x 20 columns]"
      ]
     },
     "execution_count": 20,
     "metadata": {},
     "output_type": "execute_result"
    }
   ],
   "source": [
    "qs = pd.read_csv(\"../../datasets/queer/queer_speech.csv\")\n",
    "qs"
   ]
  },
  {
   "cell_type": "code",
   "execution_count": 21,
   "metadata": {},
   "outputs": [
    {
     "data": {
      "image/png": "[encoded data removed]",
      "text/plain": [
       "<Figure size 640x480 with 1 Axes>"
      ]
     },
     "metadata": {},
     "output_type": "display_data"
    }
   ],
   "source": [
    "qs[qs.sex == \"M\"].plot.box(by=\"orientation\", column=[\"meanf0\"])\n",
    "plt.show()"
   ]
  },
  {
   "cell_type": "markdown",
   "metadata": {},
   "source": [
    "As you'll recall from a previous sprint, we already established that there's no significant difference in ranks between the \"meanf0\" in both groups. We might ask the more specific question is the same is true for the **variance** or **variability** in these measurements: maybe, even if the means might be similar for the two groups, maybe there's a difference in variance across the two sexual orientations? Could the measurements be more variable for one of the orientations? (Spoiler alert: this is probably not the case, since the actual **boxes** in our plot look very similar.)"
   ]
  },
  {
   "cell_type": "markdown",
   "metadata": {},
   "source": [
    "As mentioned, we first need to test whether both variables are normally distributed:"
   ]
  },
  {
   "cell_type": "code",
   "execution_count": 22,
   "metadata": {},
   "outputs": [
    {
     "name": "stdout",
     "output_type": "stream",
     "text": [
      "Shapiro-Wilk on meanf0 (heterosexual): ShapiroResult(statistic=0.9693077141159243, pvalue=0.23804679466937698)\n",
      "Shapiro-Wilk on meanf0 (homosexual): ShapiroResult(statistic=0.9650642751371148, pvalue=0.0931943986643893)\n"
     ]
    }
   ],
   "source": [
    "qsm = qs[qs.sex == \"M\"].copy()\n",
    "hom = qsm[qsm.orientation == \"homosexual\"].meanf0\n",
    "het = qsm[qsm.orientation == \"heterosexual\"].meanf0\n",
    "\n",
    "print(f\"Shapiro-Wilk on meanf0 (heterosexual): {sp.stats.shapiro(het)}\")\n",
    "print(f\"Shapiro-Wilk on meanf0 (homosexual): {sp.stats.shapiro(hom)}\")"
   ]
  },
  {
   "cell_type": "markdown",
   "metadata": {},
   "source": [
    "That appears to be the case -- although the second $p$-value isn't very impressive, it's still higher than a critical threshold of 0.05. This means that we are allowed to apply the F-test. In Python, there isn't really a special API for this, since the F statistic is simply defined as a ratio of variances, so we will need to do it \"by hand\"."
   ]
  },
  {
   "cell_type": "code",
   "execution_count": 23,
   "metadata": {},
   "outputs": [
    {
     "data": {
      "text/plain": [
       "1.448393620610545"
      ]
     },
     "execution_count": 23,
     "metadata": {},
     "output_type": "execute_result"
    }
   ],
   "source": [
    "# recall that variance is the square of standard deviation\n",
    "ratio = het.std() ** 2 / hom.std() ** 2\n",
    "ratio"
   ]
  },
  {
   "cell_type": "markdown",
   "metadata": {},
   "source": [
    "Now, what do we make of this ratio? Is it surprising? The F statistic, which we just calculated, is theoretically distributed according to the F distribution. Just like we had to use parameters for the normal distribution, we need parameters for the F distribution to get the theoretical shape matching our data. The parameters we need are called the \"degrees of freedom\" which is \"insert maths here\" but in summary it is the length of the sample minus 1"
   ]
  },
  {
   "cell_type": "code",
   "execution_count": 24,
   "metadata": {},
   "outputs": [],
   "source": [
    "df_hom = hom.size - 1\n",
    "df_het = het.size - 1"
   ]
  },
  {
   "cell_type": "markdown",
   "metadata": {},
   "source": [
    "Now, just like we did with the normal, we create a distribution, check the output of the CDF, and calculate a $p$-value."
   ]
  },
  {
   "cell_type": "code",
   "execution_count": 25,
   "metadata": {},
   "outputs": [
    {
     "data": {
      "text/plain": [
       "0.18149690886397152"
      ]
     },
     "execution_count": 25,
     "metadata": {},
     "output_type": "execute_result"
    }
   ],
   "source": [
    "# To get a two-sided p-value we multiply by 2 (don't worry too much, but recap the 'hypothesis'\n",
    "# notebook if this makes no sense at all)\n",
    "(1 - sp.stats.f.cdf(ratio, df_het, df_hom)) * 2"
   ]
  },
  {
   "cell_type": "markdown",
   "metadata": {},
   "source": [
    "OK, the $p$-value is above a critical threshold of 0.05. Just to check our intuition, let's look at where our test statistic falls on the theoretical curve:"
   ]
  },
  {
   "cell_type": "markdown",
   "metadata": {},
   "source": [
    "> REMINDER: This is the theoretical distribution for the F statistic. Since it is a **ratio** of variances it makes sense that the peak is at 1 (equal variances) and there are no values below zero"
   ]
  },
  {
   "cell_type": "code",
   "execution_count": 26,
   "metadata": {},
   "outputs": [
    {
     "data": {
      "image/png": "[encoded data removed]",
      "text/plain": [
       "<Figure size 640x480 with 1 Axes>"
      ]
     },
     "metadata": {},
     "output_type": "display_data"
    }
   ],
   "source": [
    "X = np.linspace(0, 5, 1000)\n",
    "y = sp.stats.f.pdf(X, df_het, df_hom)  # PDF of F distribution with our params\n",
    "ax = sns.lineplot(x=X, y=y, color=\"black\", linewidth=1)\n",
    "ax.fill_between(X, y, color=\"grey\", alpha=0.3)\n",
    "ax.fill_between(X, y, color=\"orange\", where=(X < ratio))\n",
    "ax.axvline(ratio, color=\"blue\", linestyle=\"--\")\n",
    "# A new trick you might want one day...\n",
    "trans = ax.get_xaxis_transform()  # lets us specify height by percentage\n",
    "plt.text(ratio * 1.05, 0.8, f\"F={ratio:.4f}\", color=\"blue\", transform=trans)\n",
    "plt.show()"
   ]
  },
  {
   "cell_type": "markdown",
   "metadata": {},
   "source": [
    "## Testing means\n",
    "\n",
    "*Gries, chapter 4, pp. 205-238*"
   ]
  },
  {
   "cell_type": "markdown",
   "metadata": {},
   "source": [
    "### $t$-test vs Wilcoxon test"
   ]
  },
  {
   "cell_type": "markdown",
   "metadata": {},
   "source": [
    "A very common question in statistics is whether there is a \"difference\" in the values coming from two samples. Such a  \"difference\" can relate to many aspects regarding the samples (distribution, variance, ranks, etc.) but the most common formulation is probably the two samples differ in some kind of **measure of central tendency**, such as their mean. There exist a number of different scenarios to tackle such an issue and these relate to the following dimensions of the problem."
   ]
  },
  {
   "cell_type": "markdown",
   "metadata": {},
   "source": [
    "If the variables of which you'd like to compare the mean of are:\n",
    "- normally distributed (Shapiro-Wilk)\n",
    "- have homogeneous variance (F-test)\n",
    "- *each* larger than 30 observations \n",
    "\n",
    "you would apply the **$t$-test**, which is one of the most widely used test in bivariate statistics. Otherwise, if one of these conditions is not met, you'd go for it's non-parametric alternative, the **Wilcoxon Rank Sum test** which is the test covered in the third sprint). Above, we've already seen that our two samples of \"meanf0\" are (both!) normally distributed, cover > 30 items, and have equal variances. That means that, in this specific case, we are in fact allowed to apply the \"vanilla\" $t$-test to test whether the means of the two samples are significantly different:"
   ]
  },
  {
   "cell_type": "code",
   "execution_count": 27,
   "metadata": {},
   "outputs": [
    {
     "data": {
      "text/plain": [
       "TtestResult(statistic=-0.7031215459757795, pvalue=0.48355104205379207, df=104.0)"
      ]
     },
     "execution_count": 27,
     "metadata": {},
     "output_type": "execute_result"
    }
   ],
   "source": [
    "sp.stats.ttest_ind(hom, het, equal_var=True)"
   ]
  },
  {
   "cell_type": "markdown",
   "metadata": {},
   "source": [
    "The result is not unexpected given what we already know about this data: the probability ($p$-value) that the null hypothesis is so large that we have no choice but to accept it: there is no significant different in the means between them. In the function call above, you see that we explicitly state that we tested for any difference in variance between the two variances, but didn't find any (`equal_var=True` -- this is actually the default). If we set this to `False`, you'll see that, automatically, an alternative formulation of this test is carried out, namely **Welch's t-test**"
   ]
  },
  {
   "cell_type": "code",
   "execution_count": 28,
   "metadata": {},
   "outputs": [
    {
     "data": {
      "text/plain": [
       "TtestResult(statistic=-0.6909599200159974, pvalue=0.4913411320322585, df=91.43893191089234)"
      ]
     },
     "execution_count": 28,
     "metadata": {},
     "output_type": "execute_result"
    }
   ],
   "source": [
    "sp.stats.ttest_ind(hom, het, equal_var=False)"
   ]
  },
  {
   "cell_type": "markdown",
   "metadata": {},
   "source": [
    "This variant is useful if your data doesn't have (a clear) homogeneity in variance. As you can see, the statistics which we obtain are pretty similar however and point in the same direction.\n",
    "\n",
    "The $t$-test comes with clear assumptions that must be verified. This is not only cumbersome, but often these assumptions will just not hold. Just remember that the $t$-test is the parametric alternative to the Wilcoxon / Mann-Whitney U test (and that the latter is a much more \"relaxed\" test, so prefer the $t$-test if you can use it)."
   ]
  },
  {
   "cell_type": "code",
   "execution_count": 29,
   "metadata": {},
   "outputs": [
    {
     "data": {
      "text/plain": [
       "MannwhitneyuResult(statistic=1288.5, pvalue=0.5132818705771971)"
      ]
     },
     "execution_count": 29,
     "metadata": {},
     "output_type": "execute_result"
    }
   ],
   "source": [
    "sp.stats.mannwhitneyu(hom, het)"
   ]
  },
  {
   "cell_type": "markdown",
   "metadata": {},
   "source": [
    "## Paired versus unpaired data"
   ]
  },
  {
   "cell_type": "markdown",
   "metadata": {},
   "source": [
    "Both the $t$-test and the Wilcoxon come in two flavours: both have a variant for **paired** and **unpaired samples**, also known as **dependent** and **independent samples**. This is an important difference that we'll dwell on a little longer today. (In fact, we'll say a lot more about those in the very last session, on mixed effects regression.)"
   ]
  },
  {
   "cell_type": "markdown",
   "metadata": {},
   "source": [
    "To illustrate the concept of paired data with an example from the Humanities, we'll work with a dataset coming from a famous domain of cultural production. The *Harry Potter* book series is a well-known cultural phenomenon across the entire world. The 7 books in the series were originally published in British English (by Bloomsbury), but later adapted into American English and marketed separately for an overseas audience in the US (by Scholastic). There exists a significant scholarship on the Harry Potter books and various people have studied aspects of the (cultural, but also stylistic) differences between the parallel UK and US editions of these 7 works. We will specifically be concerned with the hypothesis that the average sentence length is shorter in the US than in the UK versions of the books (presumably, because the writing style would have been simplified for an American audience).\n",
    "\n",
    "In the file `potter/lengths.csv`, we provide the data that enables us to assess these hypotheses using statistical methods. Each row represents a single chapter of the 199 chapters in the 7 Harry Potter books. The columns hold the following metadata fields:\n",
    "- `book`: the book from which the chapter was drawn;\n",
    "- `chapter`: the title of the chapter (in the UK edition);\n",
    "- `UK`: the average length of the sentences (measured in tokens) in the chapter in the UK edition;\n",
    "- `US`: the average length of the sentences (measured in tokens) in the corresponding chapter in the US edition;\n",
    "- `index`: the ranking of the chapter in the entire series (an integer ranging from 1-199)."
   ]
  },
  {
   "cell_type": "markdown",
   "metadata": {},
   "source": [
    "We first load the data and verify that we have data for the 199 chapters in the series:"
   ]
  },
  {
   "cell_type": "code",
   "execution_count": 30,
   "metadata": {},
   "outputs": [
    {
     "data": {
      "text/html": [
       "<div>\n",
       "<style scoped>\n",
       "    .dataframe tbody tr th:only-of-type {\n",
       "        vertical-align: middle;\n",
       "    }\n",
       "\n",
       "    .dataframe tbody tr th {\n",
       "        vertical-align: top;\n",
       "    }\n",
       "\n",
       "    .dataframe thead th {\n",
       "        text-align: right;\n",
       "    }\n",
       "</style>\n",
       "<table border=\"1\" class=\"dataframe\">\n",
       "  <thead>\n",
       "    <tr style=\"text-align: right;\">\n",
       "      <th></th>\n",
       "      <th>index</th>\n",
       "      <th>book</th>\n",
       "      <th>chapter</th>\n",
       "      <th>UK</th>\n",
       "      <th>US</th>\n",
       "    </tr>\n",
       "  </thead>\n",
       "  <tbody>\n",
       "    <tr>\n",
       "      <th>0</th>\n",
       "      <td>1</td>\n",
       "      <td>1-Harry Potter and the Philosopher's Stone</td>\n",
       "      <td>00-The Boy Who Lived</td>\n",
       "      <td>20.989091</td>\n",
       "      <td>21.062044</td>\n",
       "    </tr>\n",
       "    <tr>\n",
       "      <th>1</th>\n",
       "      <td>2</td>\n",
       "      <td>1-Harry Potter and the Philosopher's Stone</td>\n",
       "      <td>01-The Vanishing Glass</td>\n",
       "      <td>21.505051</td>\n",
       "      <td>21.268657</td>\n",
       "    </tr>\n",
       "    <tr>\n",
       "      <th>2</th>\n",
       "      <td>3</td>\n",
       "      <td>1-Harry Potter and the Philosopher's Stone</td>\n",
       "      <td>02-The Letters from No One</td>\n",
       "      <td>19.738589</td>\n",
       "      <td>19.838174</td>\n",
       "    </tr>\n",
       "    <tr>\n",
       "      <th>3</th>\n",
       "      <td>4</td>\n",
       "      <td>1-Harry Potter and the Philosopher's Stone</td>\n",
       "      <td>03-The Keeper of the Keys</td>\n",
       "      <td>19.870968</td>\n",
       "      <td>19.846774</td>\n",
       "    </tr>\n",
       "    <tr>\n",
       "      <th>4</th>\n",
       "      <td>5</td>\n",
       "      <td>1-Harry Potter and the Philosopher's Stone</td>\n",
       "      <td>04-Diagon Alley</td>\n",
       "      <td>20.173302</td>\n",
       "      <td>19.911833</td>\n",
       "    </tr>\n",
       "    <tr>\n",
       "      <th>...</th>\n",
       "      <td>...</td>\n",
       "      <td>...</td>\n",
       "      <td>...</td>\n",
       "      <td>...</td>\n",
       "      <td>...</td>\n",
       "    </tr>\n",
       "    <tr>\n",
       "      <th>194</th>\n",
       "      <td>195</td>\n",
       "      <td>7-Harry Potter and the Deathly Hallows</td>\n",
       "      <td>32-The Prince’s Tale</td>\n",
       "      <td>21.755102</td>\n",
       "      <td>21.536437</td>\n",
       "    </tr>\n",
       "    <tr>\n",
       "      <th>195</th>\n",
       "      <td>196</td>\n",
       "      <td>7-Harry Potter and the Deathly Hallows</td>\n",
       "      <td>33-The Forest Again</td>\n",
       "      <td>20.284483</td>\n",
       "      <td>20.128205</td>\n",
       "    </tr>\n",
       "    <tr>\n",
       "      <th>196</th>\n",
       "      <td>197</td>\n",
       "      <td>7-Harry Potter and the Deathly Hallows</td>\n",
       "      <td>34-King’s Cross</td>\n",
       "      <td>19.057229</td>\n",
       "      <td>19.094225</td>\n",
       "    </tr>\n",
       "    <tr>\n",
       "      <th>197</th>\n",
       "      <td>198</td>\n",
       "      <td>7-Harry Potter and the Deathly Hallows</td>\n",
       "      <td>35-The Flaw in the Plan</td>\n",
       "      <td>27.484663</td>\n",
       "      <td>26.578635</td>\n",
       "    </tr>\n",
       "    <tr>\n",
       "      <th>198</th>\n",
       "      <td>199</td>\n",
       "      <td>7-Harry Potter and the Deathly Hallows</td>\n",
       "      <td>36-Nineteen Years Later</td>\n",
       "      <td>20.361111</td>\n",
       "      <td>20.342593</td>\n",
       "    </tr>\n",
       "  </tbody>\n",
       "</table>\n",
       "<p>199 rows × 5 columns</p>\n",
       "</div>"
      ],
      "text/plain": [
       "     index                                        book  \\\n",
       "0        1  1-Harry Potter and the Philosopher's Stone   \n",
       "1        2  1-Harry Potter and the Philosopher's Stone   \n",
       "2        3  1-Harry Potter and the Philosopher's Stone   \n",
       "3        4  1-Harry Potter and the Philosopher's Stone   \n",
       "4        5  1-Harry Potter and the Philosopher's Stone   \n",
       "..     ...                                         ...   \n",
       "194    195      7-Harry Potter and the Deathly Hallows   \n",
       "195    196      7-Harry Potter and the Deathly Hallows   \n",
       "196    197      7-Harry Potter and the Deathly Hallows   \n",
       "197    198      7-Harry Potter and the Deathly Hallows   \n",
       "198    199      7-Harry Potter and the Deathly Hallows   \n",
       "\n",
       "                        chapter         UK         US  \n",
       "0          00-The Boy Who Lived  20.989091  21.062044  \n",
       "1        01-The Vanishing Glass  21.505051  21.268657  \n",
       "2    02-The Letters from No One  19.738589  19.838174  \n",
       "3     03-The Keeper of the Keys  19.870968  19.846774  \n",
       "4               04-Diagon Alley  20.173302  19.911833  \n",
       "..                          ...        ...        ...  \n",
       "194        32-The Prince’s Tale  21.755102  21.536437  \n",
       "195         33-The Forest Again  20.284483  20.128205  \n",
       "196             34-King’s Cross  19.057229  19.094225  \n",
       "197     35-The Flaw in the Plan  27.484663  26.578635  \n",
       "198     36-Nineteen Years Later  20.361111  20.342593  \n",
       "\n",
       "[199 rows x 5 columns]"
      ]
     },
     "execution_count": 30,
     "metadata": {},
     "output_type": "execute_result"
    }
   ],
   "source": [
    "hp = pd.read_csv(\"../../datasets/potter/lengths.csv\").dropna()\n",
    "hp"
   ]
  },
  {
   "cell_type": "markdown",
   "metadata": {},
   "source": [
    "We start with a very naive approach and plot the data at face value, i.e. we produce a run-off-the-mill distribution plot for the length measurements in both columns. They look pretty similar."
   ]
  },
  {
   "cell_type": "code",
   "execution_count": 31,
   "metadata": {},
   "outputs": [
    {
     "data": {
      "image/png": "[encoded data removed]",
      "text/plain": [
       "<Figure size 640x480 with 1 Axes>"
      ]
     },
     "metadata": {},
     "output_type": "display_data"
    }
   ],
   "source": [
    "sns.kdeplot(hp, x=\"UK\")\n",
    "sns.kdeplot(hp, x=\"US\")\n",
    "plt.show()"
   ]
  },
  {
   "cell_type": "markdown",
   "metadata": {},
   "source": [
    "On the QQ plot we can see the effect of the \"long tail\" to the right, and the \"short tail\" to the left (because sentence lengths can't be less than 0). It looks like this isn't normal, so we do a formal test to check."
   ]
  },
  {
   "cell_type": "code",
   "execution_count": 32,
   "metadata": {},
   "outputs": [
    {
     "data": {
      "image/png": "[encoded data removed]",
      "text/plain": [
       "<Figure size 640x480 with 1 Axes>"
      ]
     },
     "metadata": {},
     "output_type": "display_data"
    }
   ],
   "source": [
    "sm.qqplot(hp.UK, line=\"s\")\n",
    "plt.show()"
   ]
  },
  {
   "cell_type": "code",
   "execution_count": 33,
   "metadata": {},
   "outputs": [
    {
     "data": {
      "text/plain": [
       "ShapiroResult(statistic=0.8762433306121243, pvalue=1.0638520212936286e-11)"
      ]
     },
     "execution_count": 33,
     "metadata": {},
     "output_type": "execute_result"
    }
   ],
   "source": [
    "sp.stats.shapiro(hp.UK)"
   ]
  },
  {
   "cell_type": "markdown",
   "metadata": {},
   "source": [
    "The evidence so far suggests, at first sight, that the difference in ranks isn't large, and because the IQRs overlap so strongly, one might not expect to find a statistically significant difference. The data violate the assumptions for normality (probably caused by the outliers) so we go for a non-parametric test (Wilcox), testing whether UK is greater than US (as alternative hypothesis). The unpaired version of the test judges the differences as non-significant (which was to be expected on the basis of the density plot)."
   ]
  },
  {
   "cell_type": "code",
   "execution_count": 34,
   "metadata": {},
   "outputs": [
    {
     "data": {
      "text/plain": [
       "MannwhitneyuResult(statistic=18294.0, pvalue=0.18937514906147812)"
      ]
     },
     "execution_count": 34,
     "metadata": {},
     "output_type": "execute_result"
    }
   ],
   "source": [
    "sp.stats.mannwhitneyu(hp.US, hp.UK)"
   ]
  },
  {
   "cell_type": "markdown",
   "metadata": {},
   "source": [
    "What is going on here? Did we disprove the scholarly consensus? No, approaching the data in this manner is treacherous. Looking at this data from a simple, two-group perspective ignores the paired nature of this data. Indeed, when viewed as a group, the US chapter lengths aren't shorter overall than the UK chapter. However, we should account for the fact the US version is an *adaptation* of the UK version. In this data, we have two length columns that are paired: for each measurement in a UK chapter, we have a parallel measurement for the US chapter. These measurements run parallel to one another; they are not independent from one another. If you consider the example above again, where we compared \"meanf0\" from the two categories, that was an example of two independent groups of which we can compare the mean, without much additional thinking. All the values in sample 1 were completely independent from the values in sample 2, since all of these values were recorded for unique individuals. We were dealing with two fully **independent samples**."
   ]
  },
  {
   "cell_type": "markdown",
   "metadata": {},
   "source": [
    "Let's look at the data in a different way. Below we plot the **differences** in order (by simply subtracting the two columns), and suddenly the effect is clear! Most of the points have a positive difference (the UK text is longer)"
   ]
  },
  {
   "cell_type": "code",
   "execution_count": 35,
   "metadata": {},
   "outputs": [
    {
     "data": {
      "image/png": "[encoded data removed]",
      "text/plain": [
       "<Figure size 640x480 with 1 Axes>"
      ]
     },
     "metadata": {},
     "output_type": "display_data"
    }
   ],
   "source": [
    "ax = sns.scatterplot(x=\"index\", y=(hp.UK - hp.US), data=hp, hue=(hp.UK - hp.US < 0))\n",
    "ax.axhline(0, color=\"red\", linestyle=\"--\")\n",
    "ax.get_legend().remove()\n",
    "plt.show()\n",
    "sns.reset_defaults()"
   ]
  },
  {
   "cell_type": "markdown",
   "metadata": {},
   "source": [
    "> EXERCISE: What type are these objects in the parentheses `(hp.UK - hp.US)`? If you don't already know, try using the built-in `__class__` property to find out..."
   ]
  },
  {
   "cell_type": "markdown",
   "metadata": {},
   "source": [
    "For this situation we need the **other** Wilcoxon test (`sp.stats.wilcoxon()`). The \"signed rank test\" is designed for paired samples. This is used for situations where we have two paired samples with a \"treatment\" (where the 'individuals' are the same). This problem is a good example (same text, with the editing being the treatment), but it is most canonical for, eg, giving a medical treatment to individuals and seeing if it has an effect. For `sp.stats.wilcoxon()` you will need both samples to be identical in length."
   ]
  },
  {
   "cell_type": "code",
   "execution_count": 36,
   "metadata": {},
   "outputs": [
    {
     "data": {
      "text/plain": [
       "WilcoxonResult(statistic=16804.0, pvalue=1.7883272479122673e-17)"
      ]
     },
     "execution_count": 36,
     "metadata": {},
     "output_type": "execute_result"
    }
   ],
   "source": [
    "sp.stats.wilcoxon(hp.UK, hp.US, alternative=\"greater\")"
   ]
  },
  {
   "cell_type": "markdown",
   "metadata": {},
   "source": [
    "This returns a very significant p-value: if we do take into account the paired nature of our data, we are suddenly able to confirm the prior hypothesis that the sentence length has been reduced in the adaptation process. This effect, however, only becomes statistically meaningful if we use the correct, paired variant of the test. The unpaired variant didn't identify any clear differences, because it didn't take into account that we should be doing the comparison on a chapter by chapter basis. "
   ]
  },
  {
   "cell_type": "markdown",
   "metadata": {},
   "source": [
    "By the way, there's also a paired variant of the parametric $t$-test (`sp.stats.ttest_rel()`). This test comes with the specific requirement, however, that the (row-wise) *differences* between both measurement samples is normally distributed (**not necessarily the samples themselves**). This is easy to check:"
   ]
  },
  {
   "cell_type": "code",
   "execution_count": 37,
   "metadata": {},
   "outputs": [
    {
     "data": {
      "image/png": "[encoded data removed]",
      "text/plain": [
       "<Figure size 640x480 with 1 Axes>"
      ]
     },
     "metadata": {},
     "output_type": "display_data"
    }
   ],
   "source": [
    "sm.qqplot(hp.UK - hp.US, line=\"s\")\n",
    "plt.show()"
   ]
  },
  {
   "cell_type": "code",
   "execution_count": 38,
   "metadata": {},
   "outputs": [
    {
     "data": {
      "text/plain": [
       "ShapiroResult(statistic=0.7693535255876773, pvalue=2.1632373297686445e-16)"
      ]
     },
     "execution_count": 38,
     "metadata": {},
     "output_type": "execute_result"
    }
   ],
   "source": [
    "sp.stats.shapiro(hp.UK - hp.US)"
   ]
  },
  {
   "cell_type": "markdown",
   "metadata": {},
   "source": [
    "Clearly, the differences aren't normally distributed, so we are not allowed to apply the paired $t$-test in this context."
   ]
  },
  {
   "cell_type": "markdown",
   "metadata": {},
   "source": [
    "```\n",
    "Version History\n",
    "\n",
    "Current: v1.0.2\n",
    "\n",
    "25/9/24: 1.0.0: first draft, BN\n",
    "26/9/24: 1.0.1: typos, BN\n",
    "04/10/24: 1.0.2: typos + proofreading, MK\n",
    "```"
   ]
  }
 ],
 "metadata": {
  "kernelspec": {
   "display_name": "py311",
   "language": "python",
   "name": "python3"
  },
  "language_info": {
   "codemirror_mode": {
    "name": "ipython",
    "version": 3
   },
   "file_extension": ".py",
   "mimetype": "text/x-python",
   "name": "python",
   "nbconvert_exporter": "python",
   "pygments_lexer": "ipython3",
   "version": "3.11.0"
  }
 },
 "nbformat": 4,
 "nbformat_minor": 4
}
