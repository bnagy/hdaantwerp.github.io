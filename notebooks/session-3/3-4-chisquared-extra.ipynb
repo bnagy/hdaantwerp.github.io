{
 "cells": [
  {
   "cell_type": "markdown",
   "id": "a26e0914",
   "metadata": {},
   "source": [
    "# Extra cases\n",
    "\n",
    "The most simple and common application of a chi-squared test is that to study the correlation between two categorical variables with just two levels. The test is then carried out on a 2x2 table of counts (with *df*=1). In this notebook, we will see that the chi-squared test has a wider applicability, however. We'll cover two more examples from the Spanish novels dataset, which contains metadata on the protagonist in each of the books:"
   ]
  },
  {
   "cell_type": "code",
   "execution_count": 1,
   "id": "bcd0120d",
   "metadata": {},
   "outputs": [],
   "source": [
    "import pandas as pd\n",
    "import matplotlib.pyplot as plt\n",
    "import scipy as sp\n",
    "from statsmodels.graphics.mosaicplot import mosaic"
   ]
  },
  {
   "cell_type": "code",
   "execution_count": null,
   "id": "2955ae09",
   "metadata": {},
   "outputs": [],
   "source": [
    "novels = pd.read_csv(\"../../datasets/correlaciones/spanish-novels.tsv\", sep=\"\\t\")[\n",
    "    [\"protagonist-gender\", \"protagonist-social-level\"]\n",
    "]\n",
    "novels.columns = novels.columns.str.replace(\"-\", \"_\")\n",
    "novels"
   ]
  },
  {
   "cell_type": "markdown",
   "id": "33a00ba0",
   "metadata": {},
   "source": [
    "## Male vs female"
   ]
  },
  {
   "cell_type": "markdown",
   "id": "bfc7e5ab",
   "metadata": {},
   "source": [
    "Since there are so few protagonists (3) not assigned to binary gender, we will have to drop them to make the analysis easier"
   ]
  },
  {
   "cell_type": "code",
   "execution_count": 3,
   "id": "65c6b64e",
   "metadata": {},
   "outputs": [],
   "source": [
    "novels = novels[novels.protagonist_gender.isin([\"male\", \"female\"])]"
   ]
  },
  {
   "cell_type": "markdown",
   "id": "44545310",
   "metadata": {},
   "source": [
    "How frequent are male and female protagonists?"
   ]
  },
  {
   "cell_type": "code",
   "execution_count": null,
   "id": "822aabe3",
   "metadata": {},
   "outputs": [],
   "source": [
    "novels.protagonist_gender.value_counts()"
   ]
  },
  {
   "cell_type": "markdown",
   "id": "c7cf2eb6",
   "metadata": {},
   "source": [
    "If we assume that the number of women and men are [roughly the same](https://en.wikipedia.org/wiki/Human_sex_ratio) in human societies, it would seem that women are underrepresented as protagonists in this dataset. Can we quantify our surprise at this distribution in more exact terms? How likely would it be that this distribution arose from pure chance (as opposed to an obvious underrepresentation)? The chi-squared test can be used for this purpose too."
   ]
  },
  {
   "cell_type": "markdown",
   "id": "ec876710",
   "metadata": {},
   "source": [
    "Here we will use the 'vanilla' test for goodness of fit. We provide a one-dimensional frequency histogram, with a matching histogram of expected values."
   ]
  },
  {
   "cell_type": "code",
   "execution_count": null,
   "id": "f196b1b9",
   "metadata": {},
   "outputs": [],
   "source": [
    "# half the number of rows (subjects) are expected to be female\n",
    "exp = novels.protagonist_gender.shape[0] * 0.5\n",
    "sp.stats.chisquare(novels.protagonist_gender.value_counts(), [exp, exp])"
   ]
  },
  {
   "cell_type": "markdown",
   "id": "dc754ad0",
   "metadata": {},
   "source": [
    "The low p-value indicates that there's almost no support for the null hypothesis that this distribution would have arisen from pure chance.\n",
    "\n",
    "Note that here:\n",
    "- We are only dealing with a *single* categorical variable\n",
    "- We can provide the expected frequencies ourselves"
   ]
  },
  {
   "cell_type": "markdown",
   "id": "deecf5f6",
   "metadata": {},
   "source": [
    "## Gender vs social class"
   ]
  },
  {
   "cell_type": "markdown",
   "id": "9b1e4057",
   "metadata": {},
   "source": [
    "Let's ask an actual literary question! The table also includes data on the social class of protagonists:"
   ]
  },
  {
   "cell_type": "code",
   "execution_count": null,
   "id": "26c6483f",
   "metadata": {},
   "outputs": [],
   "source": [
    "novels.protagonist_social_level.value_counts()"
   ]
  },
  {
   "cell_type": "markdown",
   "id": "90f7b493",
   "metadata": {},
   "source": [
    "Most of the protagonists belong to the middle class. Might there be a relationship with gender?"
   ]
  },
  {
   "cell_type": "code",
   "execution_count": null,
   "id": "9ef57817",
   "metadata": {},
   "outputs": [],
   "source": [
    "mosaic(novels, [\"protagonist_gender\", \"protagonist_social_level\"])\n",
    "plt.show()\n",
    "mosaic(novels, [\"protagonist_social_level\", \"protagonist_gender\"])\n",
    "plt.show()"
   ]
  },
  {
   "cell_type": "markdown",
   "id": "f85d5d38",
   "metadata": {},
   "source": [
    "These plots show that women are under-represented in the middle class: female protagonists are apparently pushed to the richer and poorer extremes. The opposite is true for male protagonists, who are overrepresented in the middle class, and underrepresented in the high and low class.\n",
    "\n",
    "We can use the chi-square test to test whether the relationship between these two variables is significant *as a whole*. Note that here, we will effortlessly apply the test to a *2x3 counts* table. Apart from the degrees of freedom (*df* = 2), nothing much changes in the way the test statistic is calculated. The test can be applied to counts tables of **arbitrary dimensions**."
   ]
  },
  {
   "cell_type": "code",
   "execution_count": null,
   "id": "c3ba526e",
   "metadata": {},
   "outputs": [],
   "source": [
    "obs = pd.crosstab(novels.protagonist_gender, novels.protagonist_social_level)\n",
    "obs"
   ]
  },
  {
   "cell_type": "code",
   "execution_count": 9,
   "id": "edf3ef8f",
   "metadata": {},
   "outputs": [],
   "source": [
    "res = sp.stats.chi2_contingency(obs)"
   ]
  },
  {
   "cell_type": "markdown",
   "id": "0f187fa9",
   "metadata": {},
   "source": [
    "We can also numerically compare the observed vs expected frequencies. `DataFrame` objects can be subtracted if they are the same shape! This is a little basic (R has a better kind of plot for this), but it does the job of showing whether each category is over or under its expected value."
   ]
  },
  {
   "cell_type": "code",
   "execution_count": null,
   "id": "c1d39123",
   "metadata": {},
   "outputs": [],
   "source": [
    "obs - res.expected_freq"
   ]
  },
  {
   "cell_type": "code",
   "execution_count": null,
   "id": "3f923aef",
   "metadata": {},
   "outputs": [],
   "source": [
    "# are all() expected_freq entries > 5?\n",
    "# decompose this cell if you don't know how it works...\n",
    "\n",
    "(res.expected_freq > 5).all()"
   ]
  },
  {
   "cell_type": "markdown",
   "id": "fde279d3",
   "metadata": {},
   "source": [
    "Finally, we can check the results of the test. First of all, we check the assumptions.\n",
    "- More than 60 data points\n",
    "- Expected frequency counts all above 5 (barely)\n",
    "- No repeated measurements? (you didn't check, but we did)"
   ]
  },
  {
   "cell_type": "code",
   "execution_count": null,
   "id": "be441445",
   "metadata": {},
   "outputs": [],
   "source": [
    "res"
   ]
  },
  {
   "cell_type": "markdown",
   "id": "4789bcb4",
   "metadata": {},
   "source": [
    "The resulting $p$-value points towards (borderline) significance. (Probably there are too few women in the dataset to make very strong claims.) Our total number of degrees of freedom increased, here, which also makes it harder to see a significant result, particularly with a small number of samples (and quite an unbalanced set of datapoints, given the few female protagonists overall)."
   ]
  },
  {
   "cell_type": "markdown",
   "id": "5d3a0276",
   "metadata": {},
   "source": [
    "```\n",
    "Version History\n",
    "\n",
    "Current: v1.0.1\n",
    "\n",
    "2/10/24: 1.0.0: first draft, BN\n",
    "08/10/24: 1.0.1: proofread, MK\n",
    "```"
   ]
  }
 ],
 "metadata": {
  "kernelspec": {
   "display_name": "py311",
   "language": "python",
   "name": "python3"
  },
  "language_info": {
   "codemirror_mode": {
    "name": "ipython",
    "version": 3
   },
   "file_extension": ".py",
   "mimetype": "text/x-python",
   "name": "python",
   "nbconvert_exporter": "python",
   "pygments_lexer": "ipython3",
   "version": "3.11.0"
  }
 },
 "nbformat": 4,
 "nbformat_minor": 5
}
