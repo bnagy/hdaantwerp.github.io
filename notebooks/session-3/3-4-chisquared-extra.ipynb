{
 "cells": [
  {
   "cell_type": "markdown",
   "id": "a26e0914",
   "metadata": {},
   "source": [
    "# Extra cases\n",
    "\n",
    "The most simple and common application of a chi-squared test is that to study the correlation between two categorical variables with just two levels. The test is then carried out on a 2x2 table of counts (with *df*=1). In this notebook, we will see that the chi-squared test has a wider applicability, however. We'll cover two more examples from the Spanish novels dataset, which contains metadata on the protagonist in each of the books:"
   ]
  },
  {
   "cell_type": "code",
   "execution_count": 1,
   "id": "bcd0120d",
   "metadata": {},
   "outputs": [],
   "source": [
    "import pandas as pd\n",
    "import matplotlib.pyplot as plt\n",
    "import scipy as sp\n",
    "from statsmodels.graphics.mosaicplot import mosaic"
   ]
  },
  {
   "cell_type": "code",
   "execution_count": 2,
   "id": "2955ae09",
   "metadata": {},
   "outputs": [
    {
     "data": {
      "text/html": [
       "<div>\n",
       "<style scoped>\n",
       "    .dataframe tbody tr th:only-of-type {\n",
       "        vertical-align: middle;\n",
       "    }\n",
       "\n",
       "    .dataframe tbody tr th {\n",
       "        vertical-align: top;\n",
       "    }\n",
       "\n",
       "    .dataframe thead th {\n",
       "        text-align: right;\n",
       "    }\n",
       "</style>\n",
       "<table border=\"1\" class=\"dataframe\">\n",
       "  <thead>\n",
       "    <tr style=\"text-align: right;\">\n",
       "      <th></th>\n",
       "      <th>protagonist_gender</th>\n",
       "      <th>protagonist_social_level</th>\n",
       "    </tr>\n",
       "  </thead>\n",
       "  <tbody>\n",
       "    <tr>\n",
       "      <th>0</th>\n",
       "      <td>male</td>\n",
       "      <td>high</td>\n",
       "    </tr>\n",
       "    <tr>\n",
       "      <th>1</th>\n",
       "      <td>female</td>\n",
       "      <td>low</td>\n",
       "    </tr>\n",
       "    <tr>\n",
       "      <th>2</th>\n",
       "      <td>male</td>\n",
       "      <td>low</td>\n",
       "    </tr>\n",
       "    <tr>\n",
       "      <th>3</th>\n",
       "      <td>mixed</td>\n",
       "      <td>high</td>\n",
       "    </tr>\n",
       "    <tr>\n",
       "      <th>4</th>\n",
       "      <td>female</td>\n",
       "      <td>low</td>\n",
       "    </tr>\n",
       "    <tr>\n",
       "      <th>...</th>\n",
       "      <td>...</td>\n",
       "      <td>...</td>\n",
       "    </tr>\n",
       "    <tr>\n",
       "      <th>155</th>\n",
       "      <td>female</td>\n",
       "      <td>medium</td>\n",
       "    </tr>\n",
       "    <tr>\n",
       "      <th>156</th>\n",
       "      <td>male</td>\n",
       "      <td>low</td>\n",
       "    </tr>\n",
       "    <tr>\n",
       "      <th>157</th>\n",
       "      <td>male</td>\n",
       "      <td>medium</td>\n",
       "    </tr>\n",
       "    <tr>\n",
       "      <th>158</th>\n",
       "      <td>male</td>\n",
       "      <td>medium</td>\n",
       "    </tr>\n",
       "    <tr>\n",
       "      <th>159</th>\n",
       "      <td>male</td>\n",
       "      <td>high</td>\n",
       "    </tr>\n",
       "  </tbody>\n",
       "</table>\n",
       "<p>160 rows × 2 columns</p>\n",
       "</div>"
      ],
      "text/plain": [
       "    protagonist_gender protagonist_social_level\n",
       "0                 male                     high\n",
       "1               female                      low\n",
       "2                 male                      low\n",
       "3                mixed                     high\n",
       "4               female                      low\n",
       "..                 ...                      ...\n",
       "155             female                   medium\n",
       "156               male                      low\n",
       "157               male                   medium\n",
       "158               male                   medium\n",
       "159               male                     high\n",
       "\n",
       "[160 rows x 2 columns]"
      ]
     },
     "execution_count": 2,
     "metadata": {},
     "output_type": "execute_result"
    }
   ],
   "source": [
    "novels = pd.read_csv(\"../../datasets/correlaciones/spanish-novels.tsv\", sep=\"\\t\")[\n",
    "    [\"protagonist-gender\", \"protagonist-social-level\"]\n",
    "]\n",
    "novels.columns = novels.columns.str.replace(\"-\", \"_\")\n",
    "novels"
   ]
  },
  {
   "cell_type": "markdown",
   "id": "33a00ba0",
   "metadata": {},
   "source": [
    "## Male vs female"
   ]
  },
  {
   "cell_type": "markdown",
   "id": "bfc7e5ab",
   "metadata": {},
   "source": [
    "Since there are so few protagonists (3) not assigned to binary gender, we will have to drop them to make the analysis easier"
   ]
  },
  {
   "cell_type": "code",
   "execution_count": 3,
   "id": "65c6b64e",
   "metadata": {},
   "outputs": [],
   "source": [
    "novels = novels[novels.protagonist_gender.isin([\"male\", \"female\"])]"
   ]
  },
  {
   "cell_type": "markdown",
   "id": "44545310",
   "metadata": {},
   "source": [
    "How frequent are male and female protagonists?"
   ]
  },
  {
   "cell_type": "code",
   "execution_count": 4,
   "id": "822aabe3",
   "metadata": {},
   "outputs": [
    {
     "data": {
      "text/plain": [
       "protagonist_gender\n",
       "male      120\n",
       "female     37\n",
       "Name: count, dtype: int64"
      ]
     },
     "execution_count": 4,
     "metadata": {},
     "output_type": "execute_result"
    }
   ],
   "source": [
    "novels.protagonist_gender.value_counts()"
   ]
  },
  {
   "cell_type": "markdown",
   "id": "c7cf2eb6",
   "metadata": {},
   "source": [
    "If we assume that the number of women and men are [roughly the same](https://en.wikipedia.org/wiki/Human_sex_ratio) in human societies, it would seem that women are underrepresented as protagonists in this dataset. Can we quantify our surprise at this distribution in more exact terms? How likely would it be that this distribution arose from pure chance (as opposed to an obvious underrepresentation)? The chi-squared test can be used for this purpose too."
   ]
  },
  {
   "cell_type": "markdown",
   "id": "ec876710",
   "metadata": {},
   "source": [
    "Here we will use the 'vanilla' test for goodness of fit. We provide a one-dimensional frequency histogram, with a matching histogram of expected values."
   ]
  },
  {
   "cell_type": "code",
   "execution_count": 5,
   "id": "f196b1b9",
   "metadata": {},
   "outputs": [
    {
     "data": {
      "text/plain": [
       "Power_divergenceResult(statistic=43.87898089171974, pvalue=3.4932020882557135e-11)"
      ]
     },
     "execution_count": 5,
     "metadata": {},
     "output_type": "execute_result"
    }
   ],
   "source": [
    "# half the number of rows (subjects) are expected to be female\n",
    "exp = novels.protagonist_gender.shape[0] * 0.5\n",
    "sp.stats.chisquare(novels.protagonist_gender.value_counts(), [exp, exp])"
   ]
  },
  {
   "cell_type": "markdown",
   "id": "dc754ad0",
   "metadata": {},
   "source": [
    "The low p-value indicates that there's almost no support for the null hypothesis that this distribution would have arisen from pure chance.\n",
    "\n",
    "Note that here:\n",
    "- We are only dealing with a *single* categorical variable\n",
    "- We can provide the expected frequencies ourselves"
   ]
  },
  {
   "cell_type": "markdown",
   "id": "deecf5f6",
   "metadata": {},
   "source": [
    "## Gender vs social class"
   ]
  },
  {
   "cell_type": "markdown",
   "id": "9b1e4057",
   "metadata": {},
   "source": [
    "Let's ask an actual literary question! The table also includes data on the social class of protagonists:"
   ]
  },
  {
   "cell_type": "code",
   "execution_count": 6,
   "id": "26c6483f",
   "metadata": {},
   "outputs": [
    {
     "data": {
      "text/plain": [
       "protagonist_social_level\n",
       "medium    91\n",
       "high      39\n",
       "low       27\n",
       "Name: count, dtype: int64"
      ]
     },
     "execution_count": 6,
     "metadata": {},
     "output_type": "execute_result"
    }
   ],
   "source": [
    "novels.protagonist_social_level.value_counts()"
   ]
  },
  {
   "cell_type": "markdown",
   "id": "90f7b493",
   "metadata": {},
   "source": [
    "Most of the protagonists belong to the middle class. Might there be a relationship with gender?"
   ]
  },
  {
   "cell_type": "code",
   "execution_count": 7,
   "id": "9ef57817",
   "metadata": {},
   "outputs": [
    {
     "data": {
      "image/png": "[encoded data removed]",
      "text/plain": [
       "<Figure size 640x480 with 3 Axes>"
      ]
     },
     "metadata": {},
     "output_type": "display_data"
    },
    {
     "data": {
      "image/png": "[encoded data removed]",
      "text/plain": [
       "<Figure size 640x480 with 3 Axes>"
      ]
     },
     "metadata": {},
     "output_type": "display_data"
    }
   ],
   "source": [
    "mosaic(novels, [\"protagonist_gender\", \"protagonist_social_level\"])\n",
    "plt.show()\n",
    "mosaic(novels, [\"protagonist_social_level\", \"protagonist_gender\"])\n",
    "plt.show()"
   ]
  },
  {
   "cell_type": "markdown",
   "id": "f85d5d38",
   "metadata": {},
   "source": [
    "These plots show that women are under-represented in the middle class: female protagonists are apparently pushed to the richer and poorer extremes. The opposite is true for male protagonists, who are overrepresented in the middle class, and underrepresented in the high and low class.\n",
    "\n",
    "We can use the chi-square test to test whether the relationship between these two variables is significant *as a whole*. Note that here, we will effortlessly apply the test to a *2x3 counts* table. Apart from the degrees of freedom (*df* = 2), nothing much changes in the way the test statistic is calculated. The test can be applied to counts tables of **arbitrary dimensions**."
   ]
  },
  {
   "cell_type": "code",
   "execution_count": 8,
   "id": "c3ba526e",
   "metadata": {},
   "outputs": [
    {
     "data": {
      "text/html": [
       "<div>\n",
       "<style scoped>\n",
       "    .dataframe tbody tr th:only-of-type {\n",
       "        vertical-align: middle;\n",
       "    }\n",
       "\n",
       "    .dataframe tbody tr th {\n",
       "        vertical-align: top;\n",
       "    }\n",
       "\n",
       "    .dataframe thead th {\n",
       "        text-align: right;\n",
       "    }\n",
       "</style>\n",
       "<table border=\"1\" class=\"dataframe\">\n",
       "  <thead>\n",
       "    <tr style=\"text-align: right;\">\n",
       "      <th>protagonist_social_level</th>\n",
       "      <th>high</th>\n",
       "      <th>low</th>\n",
       "      <th>medium</th>\n",
       "    </tr>\n",
       "    <tr>\n",
       "      <th>protagonist_gender</th>\n",
       "      <th></th>\n",
       "      <th></th>\n",
       "      <th></th>\n",
       "    </tr>\n",
       "  </thead>\n",
       "  <tbody>\n",
       "    <tr>\n",
       "      <th>female</th>\n",
       "      <td>12</td>\n",
       "      <td>10</td>\n",
       "      <td>15</td>\n",
       "    </tr>\n",
       "    <tr>\n",
       "      <th>male</th>\n",
       "      <td>27</td>\n",
       "      <td>17</td>\n",
       "      <td>76</td>\n",
       "    </tr>\n",
       "  </tbody>\n",
       "</table>\n",
       "</div>"
      ],
      "text/plain": [
       "protagonist_social_level  high  low  medium\n",
       "protagonist_gender                         \n",
       "female                      12   10      15\n",
       "male                        27   17      76"
      ]
     },
     "execution_count": 8,
     "metadata": {},
     "output_type": "execute_result"
    }
   ],
   "source": [
    "obs = pd.crosstab(novels.protagonist_gender, novels.protagonist_social_level)\n",
    "obs"
   ]
  },
  {
   "cell_type": "code",
   "execution_count": 9,
   "id": "edf3ef8f",
   "metadata": {},
   "outputs": [],
   "source": [
    "res = sp.stats.chi2_contingency(obs)"
   ]
  },
  {
   "cell_type": "markdown",
   "id": "0f187fa9",
   "metadata": {},
   "source": [
    "We can also numerically compare the observed vs expected frequencies. `DataFrame` objects can be subtracted if they are the same shape! This is a little basic (R has a better kind of plot for this), but it does the job of showing whether each category is over or under its expected value."
   ]
  },
  {
   "cell_type": "code",
   "execution_count": 10,
   "id": "c1d39123",
   "metadata": {},
   "outputs": [
    {
     "data": {
      "text/html": [
       "<div>\n",
       "<style scoped>\n",
       "    .dataframe tbody tr th:only-of-type {\n",
       "        vertical-align: middle;\n",
       "    }\n",
       "\n",
       "    .dataframe tbody tr th {\n",
       "        vertical-align: top;\n",
       "    }\n",
       "\n",
       "    .dataframe thead th {\n",
       "        text-align: right;\n",
       "    }\n",
       "</style>\n",
       "<table border=\"1\" class=\"dataframe\">\n",
       "  <thead>\n",
       "    <tr style=\"text-align: right;\">\n",
       "      <th>protagonist_social_level</th>\n",
       "      <th>high</th>\n",
       "      <th>low</th>\n",
       "      <th>medium</th>\n",
       "    </tr>\n",
       "    <tr>\n",
       "      <th>protagonist_gender</th>\n",
       "      <th></th>\n",
       "      <th></th>\n",
       "      <th></th>\n",
       "    </tr>\n",
       "  </thead>\n",
       "  <tbody>\n",
       "    <tr>\n",
       "      <th>female</th>\n",
       "      <td>2.808917</td>\n",
       "      <td>3.636943</td>\n",
       "      <td>-6.44586</td>\n",
       "    </tr>\n",
       "    <tr>\n",
       "      <th>male</th>\n",
       "      <td>-2.808917</td>\n",
       "      <td>-3.636943</td>\n",
       "      <td>6.44586</td>\n",
       "    </tr>\n",
       "  </tbody>\n",
       "</table>\n",
       "</div>"
      ],
      "text/plain": [
       "protagonist_social_level      high       low   medium\n",
       "protagonist_gender                                   \n",
       "female                    2.808917  3.636943 -6.44586\n",
       "male                     -2.808917 -3.636943  6.44586"
      ]
     },
     "execution_count": 10,
     "metadata": {},
     "output_type": "execute_result"
    }
   ],
   "source": [
    "obs - res.expected_freq"
   ]
  },
  {
   "cell_type": "code",
   "execution_count": 11,
   "id": "3f923aef",
   "metadata": {},
   "outputs": [
    {
     "data": {
      "text/plain": [
       "True"
      ]
     },
     "execution_count": 11,
     "metadata": {},
     "output_type": "execute_result"
    }
   ],
   "source": [
    "# are all() expected_freq entries > 5?\n",
    "# decompose this cell if you don't know how it works...\n",
    "\n",
    "(res.expected_freq > 5).all()"
   ]
  },
  {
   "cell_type": "markdown",
   "id": "fde279d3",
   "metadata": {},
   "source": [
    "Finally, we can check the results of the test. First of all, we check the assumptions.\n",
    "- More than 60 data points\n",
    "- Expected frequency counts all above 5 (barely)\n",
    "- No repeated measurements? (you didn't check, but we did)"
   ]
  },
  {
   "cell_type": "code",
   "execution_count": 12,
   "id": "be441445",
   "metadata": {},
   "outputs": [
    {
     "data": {
      "text/plain": [
       "Chi2ContingencyResult(statistic=6.3776158942825605, pvalue=0.04122097924955523, dof=2, expected_freq=array([[ 9.1910828 ,  6.36305732, 21.44585987],\n",
       "       [29.8089172 , 20.63694268, 69.55414013]]))"
      ]
     },
     "execution_count": 12,
     "metadata": {},
     "output_type": "execute_result"
    }
   ],
   "source": [
    "res"
   ]
  },
  {
   "cell_type": "markdown",
   "id": "4789bcb4",
   "metadata": {},
   "source": [
    "The resulting $p$-value points towards (borderline) significance. (Probably there are too few women in the dataset to make very strong claims.) Our total number of degrees of freedom increased, here, which also makes it harder to see a significant result, particularly with a small number of samples (and quite an unbalanced set of datapoints, given the few female protagonists overall)."
   ]
  },
  {
   "cell_type": "markdown",
   "id": "5d3a0276",
   "metadata": {},
   "source": [
    "```\n",
    "Version History\n",
    "\n",
    "Current: v1.0.1\n",
    "\n",
    "2/10/24: 1.0.0: first draft, BN\n",
    "08/10/24: 1.0.1: proofread, MK\n",
    "```"
   ]
  }
 ],
 "metadata": {
  "kernelspec": {
   "display_name": "py311",
   "language": "python",
   "name": "python3"
  },
  "language_info": {
   "codemirror_mode": {
    "name": "ipython",
    "version": 3
   },
   "file_extension": ".py",
   "mimetype": "text/x-python",
   "name": "python",
   "nbconvert_exporter": "python",
   "pygments_lexer": "ipython3",
   "version": "3.11.0"
  }
 },
 "nbformat": 4,
 "nbformat_minor": 5
}
