{
 "cells": [
  {
   "cell_type": "markdown",
   "metadata": {},
   "source": [
    "# Session 3: homework"
   ]
  },
  {
   "cell_type": "markdown",
   "metadata": {},
   "source": [
    "# Chi-squared test for independence: Exercise social"
   ]
  },
  {
   "cell_type": "code",
   "execution_count": 1,
   "metadata": {},
   "outputs": [],
   "source": [
    "import numpy as np\n",
    "import pandas as pd\n",
    "import matplotlib.pyplot as plt\n",
    "import seaborn as sns\n",
    "import scipy as sp\n",
    "import statsmodels.api as sm"
   ]
  },
  {
   "cell_type": "markdown",
   "metadata": {},
   "source": [
    "## Loading and inspecting the data"
   ]
  },
  {
   "cell_type": "markdown",
   "metadata": {},
   "source": [
    "Load the file 'social.tsv', and assign it to the variable `social`."
   ]
  },
  {
   "cell_type": "markdown",
   "metadata": {},
   "source": [
    "Before we proceed, we are going to condense the `parents_class`: instead of working with 7 class levels, we will continue with 3.\n",
    "You are given the code for this operation:"
   ]
  },
  {
   "cell_type": "code",
   "execution_count": null,
   "metadata": {},
   "outputs": [],
   "source": [
    "def relevel(x: int) -> str:\n",
    "    if x < 3:\n",
    "        return \"upper\"\n",
    "    if x < 6:\n",
    "        return \"middle\"\n",
    "    if x < 8:\n",
    "        return \"working\"\n",
    "    # If we haven't returned by now things have gone wrong\n",
    "    raise ValueError(f\"Unknown class level {x}\")\n",
    "\n",
    "\n",
    "social[\"parents_class\"] = social.parents_class.apply(relevel)\n",
    "social"
   ]
  },
  {
   "cell_type": "markdown",
   "metadata": {},
   "source": [
    "##### Question: \n",
    "> Verify the data independence assumption of the chi-squared test. Are there repeated measurements in the data, i.e. >1 observation for 1 subject? What are the implications for your test?\n",
    "\n",
    "> Using whichever method you choose, verify that `subject_ID` is unique"
   ]
  },
  {
   "cell_type": "markdown",
   "metadata": {},
   "source": [
    "## Data exploration"
   ]
  },
  {
   "cell_type": "markdown",
   "metadata": {},
   "source": [
    "Can we observe a correlation between the teenagers' educational track (variable `education`) and their parents' social class (variable `parents_class`)? Create a table with row percentages and one with column percentages. Round the percentages to two digits."
   ]
  },
  {
   "cell_type": "markdown",
   "metadata": {},
   "source": [
    "##### Question:\n",
    "> How do you intuitively interpret these tables?"
   ]
  },
  {
   "cell_type": "markdown",
   "metadata": {},
   "source": [
    "## Data visualization"
   ]
  },
  {
   "cell_type": "markdown",
   "metadata": {},
   "source": [
    "Create the appropriate categorical plot for education versus parents' class. You will need to import the correct library (we forgot to do it for you above). Visualize once \"by parents' class\" (on the x-axis) and once \"by education\""
   ]
  },
  {
   "cell_type": "markdown",
   "metadata": {},
   "source": [
    "## Chi-squared test for independence"
   ]
  },
  {
   "cell_type": "markdown",
   "metadata": {},
   "source": [
    "Now perform a chi-squared test for independence for the teenagers' educational track and the parents' social class (conflated)."
   ]
  },
  {
   "cell_type": "markdown",
   "metadata": {},
   "source": [
    "Start by formulating your null hypothesis and alternative hypothesis."
   ]
  },
  {
   "cell_type": "markdown",
   "metadata": {},
   "source": [
    "Perform a chi-squared for independence using `chi2_contingency` and interpret the results. Remember to use the `crosstab` with **raw counts** not normalized values. You will need to verify the key assumption. Revise the notebooks if you need to."
   ]
  },
  {
   "cell_type": "markdown",
   "metadata": {},
   "source": [
    "##### Question:\n",
    "> How to interpret this result?"
   ]
  },
  {
   "cell_type": "markdown",
   "metadata": {},
   "source": [
    "## Measures of effect size"
   ]
  },
  {
   "cell_type": "markdown",
   "metadata": {},
   "source": [
    "Since the chi-squared valued and the p-value are dependent on sample size, provide a measure of effect size too.\n",
    "\n",
    "As we can only calculate odds ratios for pairs, and both our variables have three (and not two) levels, you only need to calculate Cramer's V (i.e. chi-squared value normalized for sample size). Recall the formula: \n",
    "\n",
    "> Cramer's V = $\\sqrt{\\frac{X^2}{n * (min(nrow,ncols) -1)}}$\n",
    "\n",
    "In which *n* is the sample size. To obtain the number of rows and columns, either just look at your table, or apply `shape` to it (to the table, not the entire dataset!). Finally, to obtain your chi-squared value again, either copy it from your output, or retrieve it directly from `chi2_contingency` with `.statistic`.\n",
    "\n",
    "Alternatively, use a different scipy method to directly output Cramer's V."
   ]
  },
  {
   "cell_type": "markdown",
   "metadata": {},
   "source": [
    "## Chi-squared test for independence (additional exercise): Home language"
   ]
  },
  {
   "cell_type": "markdown",
   "metadata": {},
   "source": [
    "Repeat the analyses above for a potential correlation between teenagers' educational track and the language they speak at home (variable: \"language\")."
   ]
  },
  {
   "cell_type": "markdown",
   "metadata": {},
   "source": [
    "Inspect and interpret the table (with row and then column percentages)."
   ]
  },
  {
   "cell_type": "markdown",
   "metadata": {},
   "source": [
    "Visualize with an appropriate plot, but only bother with education on the x-axis."
   ]
  },
  {
   "cell_type": "markdown",
   "metadata": {},
   "source": [
    "Now perform a chi-squared test for independence and describe your interpretation. Make sure to validate the key assumptions."
   ]
  },
  {
   "cell_type": "markdown",
   "metadata": {},
   "source": [
    "##### Question:\n",
    "> Can you think of a creative solution that would allow you to apply a chi-squared test for independence here? Hint: think of what we did to the original parents' class variable."
   ]
  },
  {
   "cell_type": "markdown",
   "metadata": {},
   "source": [
    "> #### HARD one more thing...\n",
    "\n",
    "If you managed to find a solution, calculate the critical value for $p \\lt 0.05$ for the $\\chi^2$ *statistic* for that test. You will need to work out the correct number of degrees of freedom according to the number of rows and columns, or find it somewhere (hint: check the `Chi2ContingencyResult` object returned by the test). To calculate the statistic you will need the *inverse survival function* for the $\\chi^2$ distribution.\n",
    "\n",
    "HINT: you should have a number bigger than 2 and smaller than 20. ;)"
   ]
  },
  {
   "cell_type": "markdown",
   "metadata": {},
   "source": [
    "```\n",
    "Version History\n",
    "\n",
    "Current: v1.0.1\n",
    "\n",
    "7/10/24: 1.0.0: first draft, BN\n",
    "08/10/24: 1.0.1: proofread, MK\n",
    "```"
   ]
  },
  {
   "cell_type": "markdown",
   "metadata": {},
   "source": []
  }
 ],
 "metadata": {
  "kernelspec": {
   "display_name": "py311",
   "language": "python",
   "name": "python3"
  },
  "language_info": {
   "codemirror_mode": {
    "name": "ipython",
    "version": 3
   },
   "file_extension": ".py",
   "mimetype": "text/x-python",
   "name": "python",
   "nbconvert_exporter": "python",
   "pygments_lexer": "ipython3",
   "version": "3.11.0"
  }
 },
 "nbformat": 4,
 "nbformat_minor": 4
}
