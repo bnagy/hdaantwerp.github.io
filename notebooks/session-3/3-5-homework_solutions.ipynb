{
 "cells": [
  {
   "cell_type": "markdown",
   "metadata": {},
   "source": [
    "# Session 3: homework"
   ]
  },
  {
   "cell_type": "markdown",
   "metadata": {},
   "source": [
    "# Chi-squared test for independence: Exercise social"
   ]
  },
  {
   "cell_type": "code",
   "execution_count": 1,
   "metadata": {},
   "outputs": [],
   "source": [
    "import numpy as np\n",
    "import pandas as pd\n",
    "import matplotlib.pyplot as plt\n",
    "import seaborn as sns\n",
    "import scipy as sp\n",
    "import statsmodels.api as sm"
   ]
  },
  {
   "cell_type": "markdown",
   "metadata": {},
   "source": [
    "## Loading and inspecting the data"
   ]
  },
  {
   "cell_type": "markdown",
   "metadata": {},
   "source": [
    "Load the file \"social.tsv\""
   ]
  },
  {
   "cell_type": "code",
   "execution_count": 2,
   "metadata": {},
   "outputs": [
    {
     "data": {
      "text/html": [
       "<div>\n",
       "<style scoped>\n",
       "    .dataframe tbody tr th:only-of-type {\n",
       "        vertical-align: middle;\n",
       "    }\n",
       "\n",
       "    .dataframe tbody tr th {\n",
       "        vertical-align: top;\n",
       "    }\n",
       "\n",
       "    .dataframe thead th {\n",
       "        text-align: right;\n",
       "    }\n",
       "</style>\n",
       "<table border=\"1\" class=\"dataframe\">\n",
       "  <thead>\n",
       "    <tr style=\"text-align: right;\">\n",
       "      <th></th>\n",
       "      <th>subject_ID</th>\n",
       "      <th>gender</th>\n",
       "      <th>education</th>\n",
       "      <th>language</th>\n",
       "      <th>parents_class</th>\n",
       "    </tr>\n",
       "  </thead>\n",
       "  <tbody>\n",
       "    <tr>\n",
       "      <th>0</th>\n",
       "      <td>1</td>\n",
       "      <td>female</td>\n",
       "      <td>technical</td>\n",
       "      <td>Dutch_only</td>\n",
       "      <td>1</td>\n",
       "    </tr>\n",
       "    <tr>\n",
       "      <th>1</th>\n",
       "      <td>2</td>\n",
       "      <td>male</td>\n",
       "      <td>general</td>\n",
       "      <td>Dutch_only</td>\n",
       "      <td>1</td>\n",
       "    </tr>\n",
       "    <tr>\n",
       "      <th>2</th>\n",
       "      <td>3</td>\n",
       "      <td>female</td>\n",
       "      <td>general</td>\n",
       "      <td>Dutch_only</td>\n",
       "      <td>1</td>\n",
       "    </tr>\n",
       "    <tr>\n",
       "      <th>3</th>\n",
       "      <td>4</td>\n",
       "      <td>female</td>\n",
       "      <td>general</td>\n",
       "      <td>Dutch_only</td>\n",
       "      <td>1</td>\n",
       "    </tr>\n",
       "    <tr>\n",
       "      <th>4</th>\n",
       "      <td>5</td>\n",
       "      <td>female</td>\n",
       "      <td>technical</td>\n",
       "      <td>Dutch_only</td>\n",
       "      <td>1</td>\n",
       "    </tr>\n",
       "    <tr>\n",
       "      <th>...</th>\n",
       "      <td>...</td>\n",
       "      <td>...</td>\n",
       "      <td>...</td>\n",
       "      <td>...</td>\n",
       "      <td>...</td>\n",
       "    </tr>\n",
       "    <tr>\n",
       "      <th>395</th>\n",
       "      <td>396</td>\n",
       "      <td>female</td>\n",
       "      <td>technical</td>\n",
       "      <td>Dutch_only</td>\n",
       "      <td>2</td>\n",
       "    </tr>\n",
       "    <tr>\n",
       "      <th>396</th>\n",
       "      <td>397</td>\n",
       "      <td>male</td>\n",
       "      <td>vocational</td>\n",
       "      <td>Dutch_only</td>\n",
       "      <td>2</td>\n",
       "    </tr>\n",
       "    <tr>\n",
       "      <th>397</th>\n",
       "      <td>398</td>\n",
       "      <td>female</td>\n",
       "      <td>general</td>\n",
       "      <td>Dutch_and_other</td>\n",
       "      <td>2</td>\n",
       "    </tr>\n",
       "    <tr>\n",
       "      <th>398</th>\n",
       "      <td>399</td>\n",
       "      <td>female</td>\n",
       "      <td>vocational</td>\n",
       "      <td>Dutch_only</td>\n",
       "      <td>2</td>\n",
       "    </tr>\n",
       "    <tr>\n",
       "      <th>399</th>\n",
       "      <td>400</td>\n",
       "      <td>female</td>\n",
       "      <td>vocational</td>\n",
       "      <td>Dutch_only</td>\n",
       "      <td>2</td>\n",
       "    </tr>\n",
       "  </tbody>\n",
       "</table>\n",
       "<p>400 rows × 5 columns</p>\n",
       "</div>"
      ],
      "text/plain": [
       "     subject_ID  gender   education         language  parents_class\n",
       "0             1  female   technical       Dutch_only              1\n",
       "1             2    male     general       Dutch_only              1\n",
       "2             3  female     general       Dutch_only              1\n",
       "3             4  female     general       Dutch_only              1\n",
       "4             5  female   technical       Dutch_only              1\n",
       "..          ...     ...         ...              ...            ...\n",
       "395         396  female   technical       Dutch_only              2\n",
       "396         397    male  vocational       Dutch_only              2\n",
       "397         398  female     general  Dutch_and_other              2\n",
       "398         399  female  vocational       Dutch_only              2\n",
       "399         400  female  vocational       Dutch_only              2\n",
       "\n",
       "[400 rows x 5 columns]"
      ]
     },
     "execution_count": 2,
     "metadata": {},
     "output_type": "execute_result"
    }
   ],
   "source": [
    "social = pd.read_csv(\"../../datasets/social/social.tsv\", sep=\"\\t\")\n",
    "social"
   ]
  },
  {
   "cell_type": "markdown",
   "metadata": {},
   "source": [
    "Before we proceed, we are going to condense the `parents_class`: instead of working with 7 class levels, we will continue with 3.\n",
    "You are given the code for this operation:"
   ]
  },
  {
   "cell_type": "code",
   "execution_count": 3,
   "metadata": {},
   "outputs": [
    {
     "data": {
      "text/html": [
       "<div>\n",
       "<style scoped>\n",
       "    .dataframe tbody tr th:only-of-type {\n",
       "        vertical-align: middle;\n",
       "    }\n",
       "\n",
       "    .dataframe tbody tr th {\n",
       "        vertical-align: top;\n",
       "    }\n",
       "\n",
       "    .dataframe thead th {\n",
       "        text-align: right;\n",
       "    }\n",
       "</style>\n",
       "<table border=\"1\" class=\"dataframe\">\n",
       "  <thead>\n",
       "    <tr style=\"text-align: right;\">\n",
       "      <th></th>\n",
       "      <th>subject_ID</th>\n",
       "      <th>gender</th>\n",
       "      <th>education</th>\n",
       "      <th>language</th>\n",
       "      <th>parents_class</th>\n",
       "    </tr>\n",
       "  </thead>\n",
       "  <tbody>\n",
       "    <tr>\n",
       "      <th>0</th>\n",
       "      <td>1</td>\n",
       "      <td>female</td>\n",
       "      <td>technical</td>\n",
       "      <td>Dutch_only</td>\n",
       "      <td>upper</td>\n",
       "    </tr>\n",
       "    <tr>\n",
       "      <th>1</th>\n",
       "      <td>2</td>\n",
       "      <td>male</td>\n",
       "      <td>general</td>\n",
       "      <td>Dutch_only</td>\n",
       "      <td>upper</td>\n",
       "    </tr>\n",
       "    <tr>\n",
       "      <th>2</th>\n",
       "      <td>3</td>\n",
       "      <td>female</td>\n",
       "      <td>general</td>\n",
       "      <td>Dutch_only</td>\n",
       "      <td>upper</td>\n",
       "    </tr>\n",
       "    <tr>\n",
       "      <th>3</th>\n",
       "      <td>4</td>\n",
       "      <td>female</td>\n",
       "      <td>general</td>\n",
       "      <td>Dutch_only</td>\n",
       "      <td>upper</td>\n",
       "    </tr>\n",
       "    <tr>\n",
       "      <th>4</th>\n",
       "      <td>5</td>\n",
       "      <td>female</td>\n",
       "      <td>technical</td>\n",
       "      <td>Dutch_only</td>\n",
       "      <td>upper</td>\n",
       "    </tr>\n",
       "    <tr>\n",
       "      <th>...</th>\n",
       "      <td>...</td>\n",
       "      <td>...</td>\n",
       "      <td>...</td>\n",
       "      <td>...</td>\n",
       "      <td>...</td>\n",
       "    </tr>\n",
       "    <tr>\n",
       "      <th>395</th>\n",
       "      <td>396</td>\n",
       "      <td>female</td>\n",
       "      <td>technical</td>\n",
       "      <td>Dutch_only</td>\n",
       "      <td>upper</td>\n",
       "    </tr>\n",
       "    <tr>\n",
       "      <th>396</th>\n",
       "      <td>397</td>\n",
       "      <td>male</td>\n",
       "      <td>vocational</td>\n",
       "      <td>Dutch_only</td>\n",
       "      <td>upper</td>\n",
       "    </tr>\n",
       "    <tr>\n",
       "      <th>397</th>\n",
       "      <td>398</td>\n",
       "      <td>female</td>\n",
       "      <td>general</td>\n",
       "      <td>Dutch_and_other</td>\n",
       "      <td>upper</td>\n",
       "    </tr>\n",
       "    <tr>\n",
       "      <th>398</th>\n",
       "      <td>399</td>\n",
       "      <td>female</td>\n",
       "      <td>vocational</td>\n",
       "      <td>Dutch_only</td>\n",
       "      <td>upper</td>\n",
       "    </tr>\n",
       "    <tr>\n",
       "      <th>399</th>\n",
       "      <td>400</td>\n",
       "      <td>female</td>\n",
       "      <td>vocational</td>\n",
       "      <td>Dutch_only</td>\n",
       "      <td>upper</td>\n",
       "    </tr>\n",
       "  </tbody>\n",
       "</table>\n",
       "<p>400 rows × 5 columns</p>\n",
       "</div>"
      ],
      "text/plain": [
       "     subject_ID  gender   education         language parents_class\n",
       "0             1  female   technical       Dutch_only         upper\n",
       "1             2    male     general       Dutch_only         upper\n",
       "2             3  female     general       Dutch_only         upper\n",
       "3             4  female     general       Dutch_only         upper\n",
       "4             5  female   technical       Dutch_only         upper\n",
       "..          ...     ...         ...              ...           ...\n",
       "395         396  female   technical       Dutch_only         upper\n",
       "396         397    male  vocational       Dutch_only         upper\n",
       "397         398  female     general  Dutch_and_other         upper\n",
       "398         399  female  vocational       Dutch_only         upper\n",
       "399         400  female  vocational       Dutch_only         upper\n",
       "\n",
       "[400 rows x 5 columns]"
      ]
     },
     "execution_count": 3,
     "metadata": {},
     "output_type": "execute_result"
    }
   ],
   "source": [
    "# REMINDER: type hints ( x: int and -> str) are only hints, they are for *you* to make the code\n",
    "# clearer. They are not required but they're a good habit.\n",
    "def relevel(x: int) -> str:\n",
    "    if x < 3:\n",
    "        return \"upper\"\n",
    "    if x < 6:\n",
    "        return \"middle\"\n",
    "    if x < 8:\n",
    "        return \"working\"\n",
    "    # If we haven't returned by now things have gone wrong\n",
    "    raise ValueError(f\"Unknown class level {x}\")\n",
    "\n",
    "\n",
    "social[\"parents_class\"] = social.parents_class.apply(relevel)\n",
    "social"
   ]
  },
  {
   "cell_type": "markdown",
   "metadata": {},
   "source": [
    "##### Question: \n",
    "> Verify the data independence assumption of the chi-squared test. Are there repeated measurements in the data, i.e. >1 observation for 1 subject? What are the implications for your test?\n",
    "\n",
    "> Using whichever method you choose, verify that `subject_ID` is unique"
   ]
  },
  {
   "cell_type": "code",
   "execution_count": 4,
   "metadata": {},
   "outputs": [
    {
     "data": {
      "text/plain": [
       "True"
      ]
     },
     "execution_count": 4,
     "metadata": {},
     "output_type": "execute_result"
    }
   ],
   "source": [
    "social.subject_ID.is_unique"
   ]
  },
  {
   "cell_type": "markdown",
   "metadata": {},
   "source": [
    "##### Answer: \n",
    "> Each subject only occurs once in the dataset: unique observations for unique subjects. This is important information: we can go ahead and use a chi-squared test!"
   ]
  },
  {
   "cell_type": "markdown",
   "metadata": {},
   "source": [
    "## Data exploration"
   ]
  },
  {
   "cell_type": "markdown",
   "metadata": {},
   "source": [
    "Can we observe a correlation between the teenagers' educational track (variable `education`) and their parents' social class (variable `parents_class`)? Create a table with row percentages and one with column percentages. Round the percentages to two digits."
   ]
  },
  {
   "cell_type": "code",
   "execution_count": 5,
   "metadata": {},
   "outputs": [
    {
     "data": {
      "text/html": [
       "<div>\n",
       "<style scoped>\n",
       "    .dataframe tbody tr th:only-of-type {\n",
       "        vertical-align: middle;\n",
       "    }\n",
       "\n",
       "    .dataframe tbody tr th {\n",
       "        vertical-align: top;\n",
       "    }\n",
       "\n",
       "    .dataframe thead th {\n",
       "        text-align: right;\n",
       "    }\n",
       "</style>\n",
       "<table border=\"1\" class=\"dataframe\">\n",
       "  <thead>\n",
       "    <tr style=\"text-align: right;\">\n",
       "      <th>parents_class</th>\n",
       "      <th>middle</th>\n",
       "      <th>upper</th>\n",
       "      <th>working</th>\n",
       "    </tr>\n",
       "    <tr>\n",
       "      <th>education</th>\n",
       "      <th></th>\n",
       "      <th></th>\n",
       "      <th></th>\n",
       "    </tr>\n",
       "  </thead>\n",
       "  <tbody>\n",
       "    <tr>\n",
       "      <th>general</th>\n",
       "      <td>0.36</td>\n",
       "      <td>0.59</td>\n",
       "      <td>0.05</td>\n",
       "    </tr>\n",
       "    <tr>\n",
       "      <th>technical</th>\n",
       "      <td>0.48</td>\n",
       "      <td>0.33</td>\n",
       "      <td>0.19</td>\n",
       "    </tr>\n",
       "    <tr>\n",
       "      <th>vocational</th>\n",
       "      <td>0.40</td>\n",
       "      <td>0.17</td>\n",
       "      <td>0.42</td>\n",
       "    </tr>\n",
       "  </tbody>\n",
       "</table>\n",
       "</div>"
      ],
      "text/plain": [
       "parents_class  middle  upper  working\n",
       "education                            \n",
       "general          0.36   0.59     0.05\n",
       "technical        0.48   0.33     0.19\n",
       "vocational       0.40   0.17     0.42"
      ]
     },
     "execution_count": 5,
     "metadata": {},
     "output_type": "execute_result"
    }
   ],
   "source": [
    "pd.crosstab(social.education, social.parents_class, normalize=\"index\").round(2)"
   ]
  },
  {
   "cell_type": "code",
   "execution_count": 6,
   "metadata": {},
   "outputs": [
    {
     "data": {
      "text/html": [
       "<div>\n",
       "<style scoped>\n",
       "    .dataframe tbody tr th:only-of-type {\n",
       "        vertical-align: middle;\n",
       "    }\n",
       "\n",
       "    .dataframe tbody tr th {\n",
       "        vertical-align: top;\n",
       "    }\n",
       "\n",
       "    .dataframe thead th {\n",
       "        text-align: right;\n",
       "    }\n",
       "</style>\n",
       "<table border=\"1\" class=\"dataframe\">\n",
       "  <thead>\n",
       "    <tr style=\"text-align: right;\">\n",
       "      <th>parents_class</th>\n",
       "      <th>middle</th>\n",
       "      <th>upper</th>\n",
       "      <th>working</th>\n",
       "    </tr>\n",
       "    <tr>\n",
       "      <th>education</th>\n",
       "      <th></th>\n",
       "      <th></th>\n",
       "      <th></th>\n",
       "    </tr>\n",
       "  </thead>\n",
       "  <tbody>\n",
       "    <tr>\n",
       "      <th>general</th>\n",
       "      <td>0.33</td>\n",
       "      <td>0.58</td>\n",
       "      <td>0.09</td>\n",
       "    </tr>\n",
       "    <tr>\n",
       "      <th>technical</th>\n",
       "      <td>0.35</td>\n",
       "      <td>0.27</td>\n",
       "      <td>0.26</td>\n",
       "    </tr>\n",
       "    <tr>\n",
       "      <th>vocational</th>\n",
       "      <td>0.33</td>\n",
       "      <td>0.15</td>\n",
       "      <td>0.64</td>\n",
       "    </tr>\n",
       "  </tbody>\n",
       "</table>\n",
       "</div>"
      ],
      "text/plain": [
       "parents_class  middle  upper  working\n",
       "education                            \n",
       "general          0.33   0.58     0.09\n",
       "technical        0.35   0.27     0.26\n",
       "vocational       0.33   0.15     0.64"
      ]
     },
     "execution_count": 6,
     "metadata": {},
     "output_type": "execute_result"
    }
   ],
   "source": [
    "pd.crosstab(social.education, social.parents_class, normalize=\"columns\").round(2)"
   ]
  },
  {
   "cell_type": "markdown",
   "metadata": {},
   "source": [
    "##### Question:\n",
    "> How do you intuitively interpret these tables?\n",
    "\n",
    "##### Answer:\n",
    "> **row percentages:** Most general education students' parents have an upper class profile, most technical education students' parents have a middleclass profile and most vocational education students' parents have a workingclass or middleclass profile\n",
    "\n",
    "> **column percentages:** The majority of upperclass parents' kids are in general education, while the majority of workingclass parents' kids are in vocational education. Middleclass parents' kids are more or less evenly distributed among the three educational tracks."
   ]
  },
  {
   "cell_type": "markdown",
   "metadata": {},
   "source": [
    "## Data visualization"
   ]
  },
  {
   "cell_type": "markdown",
   "metadata": {},
   "source": [
    "Create the appropriate categorical plot for education versus parents' class. You will need to import the correct library (we 'forgot' to do it for you above). Visualize once \"by parents' class\" (on the x-axis) and once \"by education\""
   ]
  },
  {
   "cell_type": "code",
   "execution_count": 7,
   "metadata": {},
   "outputs": [],
   "source": [
    "from statsmodels.graphics.mosaicplot import mosaic"
   ]
  },
  {
   "cell_type": "code",
   "execution_count": 8,
   "metadata": {},
   "outputs": [
    {
     "data": {
      "image/png": "[encoded data removed]",
      "text/plain": [
       "<Figure size 640x480 with 3 Axes>"
      ]
     },
     "metadata": {},
     "output_type": "display_data"
    }
   ],
   "source": [
    "mosaic(social, [\"parents_class\", \"education\"])\n",
    "plt.show()"
   ]
  },
  {
   "cell_type": "markdown",
   "metadata": {},
   "source": [
    "##### Interpretation:\n",
    "> The plot tells us the same as the table, but in a visual way: the number of kids with upperclass parents decreases as the kids' educational track becomes more practice-oriented, while the number of kids with workingclass parents increases as the educational track becomes more practice-oriented. \n",
    "Most upperclass parents' kids are in general (the most theory-oriented) education, while most workingclass parents' kids are in vocational (the most practice-oriented) education. Finally, we see that parental class is a bit more evenly distributed for students in the hybrid technical education (with middleclass being the most frequent level), and that middleclass parents' kids are quite evenly distributed among the three main educational tracks in secondary school."
   ]
  },
  {
   "cell_type": "markdown",
   "metadata": {},
   "source": [
    "## Chi-squared test for independence"
   ]
  },
  {
   "cell_type": "markdown",
   "metadata": {},
   "source": [
    "Now perform a chi-squared test for independence for the teenagers' educational track and the parents' social class (conflated)."
   ]
  },
  {
   "cell_type": "markdown",
   "metadata": {},
   "source": [
    "Start by formulating your null hypothesis and alternative hypothesis.\n",
    "\n",
    "##### Answer:\n",
    "> $H_0$ = there is no correlation between the parents' class and the teenagers' education. The frequencies per educational track do not depend on class or vice versa.\n",
    "\n",
    "> $H_1$ = there is a significant correlation between class and education. "
   ]
  },
  {
   "cell_type": "markdown",
   "metadata": {},
   "source": [
    "Perform a chi-squared for independence using `chi2_contingency` and interpret the results. Remember to use the `crosstab` with **raw counts** not normalized values. You will need to verify the key assumption. Revise the notebooks if you need to."
   ]
  },
  {
   "cell_type": "code",
   "execution_count": 9,
   "metadata": {},
   "outputs": [
    {
     "name": "stdout",
     "output_type": "stream",
     "text": [
      "Expected counts OK\n",
      "Chisq: Stat: 79.34677451072628, p-value: 2.3953952183055235e-16\n"
     ]
    }
   ],
   "source": [
    "obs = pd.crosstab(social.education, social.parents_class)\n",
    "\n",
    "res = sp.stats.chi2_contingency(obs)\n",
    "if (res.expected_freq > 5).all():\n",
    "    print(\"Expected counts OK\")\n",
    "    print(f\"Chisq: Stat: {res.statistic}, p-value: {res.pvalue}\")\n",
    "else:\n",
    "    print(\"Expected count(s) too small, aborting.\")"
   ]
  },
  {
   "cell_type": "markdown",
   "metadata": {},
   "source": [
    "##### Question:\n",
    "> How to interpret this result?\n",
    "\n",
    "##### Answer:\n",
    "> The p-value (<0.05) indicates that the chi-squared value is larger than the critical value (for df = 4) necessary for the observed and expected frequencies to be significantly different. So, on the basis of this chi-squared test, we can reject $H_0$ that education and parental class are not correlated, and say that there is a statistically significant correlation between the two. Recall that, **since the chi-squared test is a non-directional test, we cannot say anything about causality**!"
   ]
  },
  {
   "cell_type": "markdown",
   "metadata": {},
   "source": [
    "## Measures of effect size"
   ]
  },
  {
   "cell_type": "markdown",
   "metadata": {},
   "source": [
    "Since the chi-squared valued and the $p$-value are dependent on sample size, provide a measure of effect size too.\n",
    "\n",
    "As we can only calculate odds ratios for pairs, and both our variables have three (and not two) levels, you only need to calculate Cramer's V (i.e. chi-squared value normalized for sample size). Recall the formula:\n",
    "\n",
    "> Cramer's V = $\\sqrt{\\frac{X^2}{n * (min(nrow,ncols) -1)}}$\n",
    "\n",
    "In which *n* is the sample size. To obtain the number of rows and columns, either just look at your table, or apply `shape` to it (to the table, not the entire dataset!). Finally, to obtain your chi-squared value again, either copy it from your output, or retrieve it directly from `chi2_contingency` with `.statistic`.\n",
    "\n",
    "Alternatively, use a different scipy method to directly output Cramer's V."
   ]
  },
  {
   "cell_type": "code",
   "execution_count": 10,
   "metadata": {},
   "outputs": [
    {
     "data": {
      "text/plain": [
       "0.3149340695104419"
      ]
     },
     "execution_count": 10,
     "metadata": {},
     "output_type": "execute_result"
    }
   ],
   "source": [
    "# By hand:\n",
    "np.sqrt(res.statistic / (social.shape[0] * (min(obs.shape) - 1)))"
   ]
  },
  {
   "cell_type": "code",
   "execution_count": 11,
   "metadata": {},
   "outputs": [
    {
     "data": {
      "text/plain": [
       "0.3149340695104419"
      ]
     },
     "execution_count": 11,
     "metadata": {},
     "output_type": "execute_result"
    }
   ],
   "source": [
    "# Faster:\n",
    "sp.stats.contingency.association(obs, method=\"cramer\")"
   ]
  },
  {
   "cell_type": "markdown",
   "metadata": {},
   "source": [
    "##### Intuitive interpretation:\n",
    "> As Cramer's V ranges between 0 and 1 (with 1 = perfect correlation and 0 = no correlation), the obtained score is not extremely high. However, it already is a lot larger than e.g. the score for the correlation we saw in the class exercise (submission size vs gender)."
   ]
  },
  {
   "cell_type": "markdown",
   "metadata": {},
   "source": [
    "## Chi-squared test for independence (additional exercise): Home language"
   ]
  },
  {
   "cell_type": "markdown",
   "metadata": {},
   "source": [
    "Repeat the analyses above for a potential correlation between teenagers' educational track and the language they speak at home (variable: 'language'). Start by turning the language variable into an ordered factor. You are given the code for this operation:"
   ]
  },
  {
   "cell_type": "markdown",
   "metadata": {},
   "source": [
    "Inspect the table (with row and then column percentages)."
   ]
  },
  {
   "cell_type": "code",
   "execution_count": 12,
   "metadata": {},
   "outputs": [
    {
     "data": {
      "text/html": [
       "<div>\n",
       "<style scoped>\n",
       "    .dataframe tbody tr th:only-of-type {\n",
       "        vertical-align: middle;\n",
       "    }\n",
       "\n",
       "    .dataframe tbody tr th {\n",
       "        vertical-align: top;\n",
       "    }\n",
       "\n",
       "    .dataframe thead th {\n",
       "        text-align: right;\n",
       "    }\n",
       "</style>\n",
       "<table border=\"1\" class=\"dataframe\">\n",
       "  <thead>\n",
       "    <tr style=\"text-align: right;\">\n",
       "      <th>language</th>\n",
       "      <th>Dutch_and_other</th>\n",
       "      <th>Dutch_only</th>\n",
       "      <th>other_only</th>\n",
       "    </tr>\n",
       "    <tr>\n",
       "      <th>education</th>\n",
       "      <th></th>\n",
       "      <th></th>\n",
       "      <th></th>\n",
       "    </tr>\n",
       "  </thead>\n",
       "  <tbody>\n",
       "    <tr>\n",
       "      <th>general</th>\n",
       "      <td>0.08</td>\n",
       "      <td>0.91</td>\n",
       "      <td>0.01</td>\n",
       "    </tr>\n",
       "    <tr>\n",
       "      <th>technical</th>\n",
       "      <td>0.11</td>\n",
       "      <td>0.87</td>\n",
       "      <td>0.02</td>\n",
       "    </tr>\n",
       "    <tr>\n",
       "      <th>vocational</th>\n",
       "      <td>0.21</td>\n",
       "      <td>0.74</td>\n",
       "      <td>0.05</td>\n",
       "    </tr>\n",
       "  </tbody>\n",
       "</table>\n",
       "</div>"
      ],
      "text/plain": [
       "language    Dutch_and_other  Dutch_only  other_only\n",
       "education                                          \n",
       "general                0.08        0.91        0.01\n",
       "technical              0.11        0.87        0.02\n",
       "vocational             0.21        0.74        0.05"
      ]
     },
     "execution_count": 12,
     "metadata": {},
     "output_type": "execute_result"
    }
   ],
   "source": [
    "pd.crosstab(social.education, social.language, normalize=\"index\").round(2)"
   ]
  },
  {
   "cell_type": "code",
   "execution_count": 13,
   "metadata": {},
   "outputs": [
    {
     "data": {
      "text/html": [
       "<div>\n",
       "<style scoped>\n",
       "    .dataframe tbody tr th:only-of-type {\n",
       "        vertical-align: middle;\n",
       "    }\n",
       "\n",
       "    .dataframe tbody tr th {\n",
       "        vertical-align: top;\n",
       "    }\n",
       "\n",
       "    .dataframe thead th {\n",
       "        text-align: right;\n",
       "    }\n",
       "</style>\n",
       "<table border=\"1\" class=\"dataframe\">\n",
       "  <thead>\n",
       "    <tr style=\"text-align: right;\">\n",
       "      <th>language</th>\n",
       "      <th>Dutch_and_other</th>\n",
       "      <th>Dutch_only</th>\n",
       "      <th>other_only</th>\n",
       "    </tr>\n",
       "    <tr>\n",
       "      <th>education</th>\n",
       "      <th></th>\n",
       "      <th></th>\n",
       "      <th></th>\n",
       "    </tr>\n",
       "  </thead>\n",
       "  <tbody>\n",
       "    <tr>\n",
       "      <th>general</th>\n",
       "      <td>0.23</td>\n",
       "      <td>0.40</td>\n",
       "      <td>0.1</td>\n",
       "    </tr>\n",
       "    <tr>\n",
       "      <th>technical</th>\n",
       "      <td>0.25</td>\n",
       "      <td>0.31</td>\n",
       "      <td>0.3</td>\n",
       "    </tr>\n",
       "    <tr>\n",
       "      <th>vocational</th>\n",
       "      <td>0.53</td>\n",
       "      <td>0.29</td>\n",
       "      <td>0.6</td>\n",
       "    </tr>\n",
       "  </tbody>\n",
       "</table>\n",
       "</div>"
      ],
      "text/plain": [
       "language    Dutch_and_other  Dutch_only  other_only\n",
       "education                                          \n",
       "general                0.23        0.40         0.1\n",
       "technical              0.25        0.31         0.3\n",
       "vocational             0.53        0.29         0.6"
      ]
     },
     "execution_count": 13,
     "metadata": {},
     "output_type": "execute_result"
    }
   ],
   "source": [
    "pd.crosstab(social.education, social.language, normalize=\"columns\").round(2)"
   ]
  },
  {
   "cell_type": "markdown",
   "metadata": {},
   "source": [
    "##### Interpretation:\n",
    "> **row percentages:** The majority of students in all educational tracks only speak Dutch at home. However, the more practice-oriented the track is, the more students speak another language too ('Dutch_and_other'), or only another language ('other_only').\n",
    "\n",
    "> **column percentages:** The majority of the 'Dutch_only' kids are in general education, while the majority of 'Dutch_and_other' and especially 'other_only' kids are in vocational education."
   ]
  },
  {
   "cell_type": "markdown",
   "metadata": {},
   "source": [
    "Visualize with an appropriate plot, but only bother with education on the x-axis."
   ]
  },
  {
   "cell_type": "code",
   "execution_count": 14,
   "metadata": {},
   "outputs": [
    {
     "data": {
      "image/png": "[encoded data removed]",
      "text/plain": [
       "<Figure size 640x480 with 3 Axes>"
      ]
     },
     "metadata": {},
     "output_type": "display_data"
    }
   ],
   "source": [
    "mosaic(social, [\"education\", \"language\"])\n",
    "plt.show()"
   ]
  },
  {
   "cell_type": "markdown",
   "metadata": {},
   "source": [
    "##### Plot interpretation:\n",
    "> Same as table interpretation. The vast majority of all students only speak Dutch at home. However, the number of kids only speaking Dutch at home slightly decreases as the educational track becomes more practice-oriented, while the number of kids speaking another language too, or only another language, increases.\n",
    "The majority of 'Dutch_only' kids are in the general track, whereas most 'Dutch_and_other' and especially 'other_only' kids are in the vocational track."
   ]
  },
  {
   "cell_type": "markdown",
   "metadata": {},
   "source": [
    "Now perform a chi-squared test for independence and describe your interpretation. Make sure to validate the key assumptions."
   ]
  },
  {
   "cell_type": "code",
   "execution_count": 15,
   "metadata": {},
   "outputs": [
    {
     "name": "stdout",
     "output_type": "stream",
     "text": [
      "language    Dutch_and_other  Dutch_only  other_only\n",
      "education                                          \n",
      "general                  12         135           1\n",
      "technical                13         104           3\n",
      "vocational               28          98           6\n",
      "Expected count(s) too small, aborting.\n"
     ]
    }
   ],
   "source": [
    "obs = pd.crosstab(social.education, social.language)\n",
    "print(obs)\n",
    "\n",
    "res = sp.stats.chi2_contingency(obs)\n",
    "if (res.expected_freq > 5).all():\n",
    "    print(\"Expected counts OK\")\n",
    "    print(f\"Chisq: Stat: {res.statistic}, p-value: {res.pvalue}\")\n",
    "else:\n",
    "    print(\"Expected count(s) too small, aborting.\")"
   ]
  },
  {
   "cell_type": "markdown",
   "metadata": {},
   "source": [
    "##### Answer:\n",
    "> The expected counts in some cells are too small to be reliable! **As a rule of thumb, all *expected* counts should be larger than 5.**"
   ]
  },
  {
   "cell_type": "markdown",
   "metadata": {},
   "source": [
    "##### Question:\n",
    "> Can you think of a creative solution that would allow you to apply a chi-squared test for independence here? Hint: think of what we did to the original parents' class variable.\n",
    "##### Answer:\n",
    "> A potential solution here would be e.g. to combine the \"Dutch_and_other\" and \"other_only\" levels. Because we can see that the *observed* cells for these variables are super small as well... And an increase in observed counts often leads to an increase in expected counts too."
   ]
  },
  {
   "cell_type": "code",
   "execution_count": 16,
   "metadata": {},
   "outputs": [
    {
     "data": {
      "text/html": [
       "<div>\n",
       "<style scoped>\n",
       "    .dataframe tbody tr th:only-of-type {\n",
       "        vertical-align: middle;\n",
       "    }\n",
       "\n",
       "    .dataframe tbody tr th {\n",
       "        vertical-align: top;\n",
       "    }\n",
       "\n",
       "    .dataframe thead th {\n",
       "        text-align: right;\n",
       "    }\n",
       "</style>\n",
       "<table border=\"1\" class=\"dataframe\">\n",
       "  <thead>\n",
       "    <tr style=\"text-align: right;\">\n",
       "      <th>language</th>\n",
       "      <th>Dutch_only</th>\n",
       "      <th>Not_Dutch_only</th>\n",
       "    </tr>\n",
       "    <tr>\n",
       "      <th>education</th>\n",
       "      <th></th>\n",
       "      <th></th>\n",
       "    </tr>\n",
       "  </thead>\n",
       "  <tbody>\n",
       "    <tr>\n",
       "      <th>general</th>\n",
       "      <td>135</td>\n",
       "      <td>13</td>\n",
       "    </tr>\n",
       "    <tr>\n",
       "      <th>technical</th>\n",
       "      <td>104</td>\n",
       "      <td>16</td>\n",
       "    </tr>\n",
       "    <tr>\n",
       "      <th>vocational</th>\n",
       "      <td>98</td>\n",
       "      <td>34</td>\n",
       "    </tr>\n",
       "  </tbody>\n",
       "</table>\n",
       "</div>"
      ],
      "text/plain": [
       "language    Dutch_only  Not_Dutch_only\n",
       "education                             \n",
       "general            135              13\n",
       "technical          104              16\n",
       "vocational          98              34"
      ]
     },
     "execution_count": 16,
     "metadata": {},
     "output_type": "execute_result"
    }
   ],
   "source": [
    "obs[\"Not_Dutch_only\"] = obs.Dutch_and_other + obs.other_only\n",
    "obs2 = obs[[\"Dutch_only\", \"Not_Dutch_only\"]].copy()\n",
    "obs2"
   ]
  },
  {
   "cell_type": "code",
   "execution_count": 17,
   "metadata": {},
   "outputs": [
    {
     "name": "stdout",
     "output_type": "stream",
     "text": [
      "language    Dutch_only  Not_Dutch_only\n",
      "education                             \n",
      "general            135              13\n",
      "technical          104              16\n",
      "vocational          98              34\n",
      "Expected counts OK\n",
      "[[124.69  23.31]\n",
      " [101.1   18.9 ]\n",
      " [111.21  20.79]]\n",
      "Chisq: Stat: 15.903544686927475, p-value: 0.00035203767971022005\n"
     ]
    }
   ],
   "source": [
    "print(obs2)\n",
    "\n",
    "res = sp.stats.chi2_contingency(obs2)\n",
    "if (res.expected_freq > 5).all():\n",
    "    print(\"Expected counts OK\")\n",
    "    print(res.expected_freq)\n",
    "    print(f\"Chisq: Stat: {res.statistic}, p-value: {res.pvalue}\")\n",
    "else:\n",
    "    print(\"Expected count(s) too small, aborting.\")"
   ]
  },
  {
   "cell_type": "markdown",
   "metadata": {},
   "source": [
    "Now we do get a valid output! Education and language are significantly correlated."
   ]
  },
  {
   "cell_type": "markdown",
   "metadata": {},
   "source": [
    "> #### HARD: one more thing...\n",
    "\n",
    "If you managed to find a solution, calculate the critical value for $p \\lt 0.05$ for the $\\chi^2$ *statistic* for that test. You will need to work out the correct number of degrees of freedom according to the number of rows and columns, or find it somewhere (hint: check the `Chi2ContingencyResult` object returned by the test). To calculate the statistic you will need the *inverse survival function* for the $\\chi^2$ distribution.\n",
    "\n",
    "HINT: you should have a number bigger than 2 and smaller than 20. ;)"
   ]
  },
  {
   "cell_type": "code",
   "execution_count": 18,
   "metadata": {},
   "outputs": [
    {
     "name": "stdout",
     "output_type": "stream",
     "text": [
      " critical value for p < 0.05 at 2 degrees of freedom is 5.991\n"
     ]
    }
   ],
   "source": [
    "# DOF for contingency test is (nrows-1) * (ncol-1) = 2 x 1\n",
    "dof = res.dof\n",
    "thresh = 0.05\n",
    "print(\n",
    "    f\" critical value for p < {thresh} at {dof} degrees of freedom is {sp.stats.chi2.isf(thresh, df=dof):.3f}\"\n",
    ")"
   ]
  },
  {
   "cell_type": "markdown",
   "metadata": {},
   "source": [
    "```\n",
    "Version History\n",
    "\n",
    "Current: v1.0.1\n",
    "\n",
    "7/10/24: 1.0.0: first draft, BN\n",
    "08/10/24: 1.0.1: proofread, MK\n",
    "```"
   ]
  },
  {
   "cell_type": "markdown",
   "metadata": {},
   "source": []
  }
 ],
 "metadata": {
  "kernelspec": {
   "display_name": "py311",
   "language": "python",
   "name": "python3"
  },
  "language_info": {
   "codemirror_mode": {
    "name": "ipython",
    "version": 3
   },
   "file_extension": ".py",
   "mimetype": "text/x-python",
   "name": "python",
   "nbconvert_exporter": "python",
   "pygments_lexer": "ipython3",
   "version": "3.11.0"
  }
 },
 "nbformat": 4,
 "nbformat_minor": 4
}
